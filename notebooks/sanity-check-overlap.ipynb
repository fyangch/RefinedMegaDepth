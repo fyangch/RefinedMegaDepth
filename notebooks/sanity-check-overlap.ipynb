{
 "cells": [
  {
   "cell_type": "code",
   "execution_count": 1,
   "metadata": {},
   "outputs": [],
   "source": [
    "import numpy as np"
   ]
  },
  {
   "cell_type": "code",
   "execution_count": 7,
   "metadata": {},
   "outputs": [
    {
     "data": {
      "text/plain": [
       "['image_paths',\n",
       " 'depth_paths',\n",
       " 'intrinsics',\n",
       " 'poses',\n",
       " 'overlap_matrix',\n",
       " 'scale_ratio_matrix',\n",
       " 'angles',\n",
       " 'n_points3D',\n",
       " 'points3D_id_to_2D',\n",
       " 'points3D_id_to_ndepth']"
      ]
     },
     "execution_count": 7,
     "metadata": {},
     "output_type": "execute_result"
    }
   ],
   "source": [
    "info_path = \"../data/scene_info/0229.npz\"\n",
    "data = np.load(info_path, allow_pickle=True)\n",
    "data.files"
   ]
  },
  {
   "cell_type": "code",
   "execution_count": 8,
   "metadata": {},
   "outputs": [
    {
     "data": {
      "text/plain": [
       "(318, 318)"
      ]
     },
     "execution_count": 8,
     "metadata": {},
     "output_type": "execute_result"
    }
   ],
   "source": [
    "gt_overlap = data[\"overlap_matrix\"]"
   ]
  },
  {
   "cell_type": "code",
   "execution_count": 9,
   "metadata": {},
   "outputs": [
    {
     "data": {
      "text/plain": [
       "(318, 318)"
      ]
     },
     "execution_count": 9,
     "metadata": {},
     "output_type": "execute_result"
    }
   ],
   "source": [
    "overlap_matrix_path = \"../data/0229/metrics/baseline/sparse-overlap-2023-03-26_18-17-41.npy\"\n",
    "overlap_matrix = np.load(overlap_matrix_path, allow_pickle=True)"
   ]
  },
  {
   "cell_type": "code",
   "execution_count": 11,
   "metadata": {},
   "outputs": [
    {
     "name": "stdout",
     "output_type": "stream",
     "text": [
      "GT overlap shape:  (318, 318)\n",
      "Our overlap shape: (318, 318)\n",
      "GT mean overlap:   0.1346\n",
      "Our mean overlap:  0.1888\n"
     ]
    }
   ],
   "source": [
    "print(f\"GT overlap shape:  {gt_overlap.shape}\")\n",
    "print(f\"Our overlap shape: {overlap_matrix.shape}\")\n",
    "print(f\"GT mean overlap:   {np.mean(gt_overlap[gt_overlap > 0]):.4f}\")\n",
    "print(f\"Our mean overlap:  {np.mean(overlap_matrix[overlap_matrix > 0]):.4f}\")"
   ]
  },
  {
   "cell_type": "code",
   "execution_count": null,
   "metadata": {},
   "outputs": [],
   "source": []
  }
 ],
 "metadata": {
  "kernelspec": {
   "display_name": "megadepth",
   "language": "python",
   "name": "python3"
  },
  "language_info": {
   "codemirror_mode": {
    "name": "ipython",
    "version": 3
   },
   "file_extension": ".py",
   "mimetype": "text/x-python",
   "name": "python",
   "nbconvert_exporter": "python",
   "pygments_lexer": "ipython3",
   "version": "3.9.16"
  },
  "orig_nbformat": 4
 },
 "nbformat": 4,
 "nbformat_minor": 2
}
