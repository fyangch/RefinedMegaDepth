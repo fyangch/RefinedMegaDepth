{
 "cells": [
  {
   "cell_type": "code",
   "execution_count": 28,
   "metadata": {},
   "outputs": [],
   "source": [
    "import os\n",
    "import numpy as np\n",
    "\n",
    "import pycolmap\n",
    "from megadepth.metrics.overlap import sparse_overlap"
   ]
  },
  {
   "cell_type": "code",
   "execution_count": 29,
   "metadata": {},
   "outputs": [],
   "source": [
    "scene_info_path = \"/Volumes/Extreme_SSD/MegaDepth/scene_info\"\n",
    "scenes_path = \"/Volumes/Extreme_SSD/MegaDepth/scenes\""
   ]
  },
  {
   "cell_type": "code",
   "execution_count": 30,
   "metadata": {},
   "outputs": [],
   "source": [
    "SCENE = \"0022\"\n",
    "scene_info = np.load(os.path.join(scene_info_path, f\"{SCENE}.npz\"))\n",
    "model = pycolmap.Reconstruction(os.path.join(scenes_path, SCENE, \"sparse/baseline\"))"
   ]
  },
  {
   "cell_type": "code",
   "execution_count": 31,
   "metadata": {},
   "outputs": [
    {
     "data": {
      "text/plain": [
       "['image_paths',\n",
       " 'depth_paths',\n",
       " 'intrinsics',\n",
       " 'poses',\n",
       " 'overlap_matrix',\n",
       " 'scale_ratio_matrix',\n",
       " 'angles',\n",
       " 'n_points3D',\n",
       " 'points3D_id_to_2D',\n",
       " 'points3D_id_to_ndepth']"
      ]
     },
     "execution_count": 31,
     "metadata": {},
     "output_type": "execute_result"
    }
   ],
   "source": [
    "scene_info.files"
   ]
  },
  {
   "cell_type": "code",
   "execution_count": 32,
   "metadata": {},
   "outputs": [],
   "source": [
    "gt_overlap = scene_info[\"overlap_matrix\"]"
   ]
  },
  {
   "cell_type": "code",
   "execution_count": 33,
   "metadata": {},
   "outputs": [],
   "source": [
    "overlap_matrix = sparse_overlap(model)"
   ]
  },
  {
   "cell_type": "code",
   "execution_count": 34,
   "metadata": {},
   "outputs": [
    {
     "name": "stdout",
     "output_type": "stream",
     "text": [
      "GT  overlap shape: (1930, 1930)\n",
      "Our overlap shape: (1930, 1930)\n",
      "GT  mean overlap:  0.1314\n",
      "Our mean overlap:  0.0985\n"
     ]
    }
   ],
   "source": [
    "print(f\"GT  overlap shape: {gt_overlap.shape}\")\n",
    "print(f\"Our overlap shape: {overlap_matrix.shape}\")\n",
    "print(f\"GT  mean overlap:  {np.mean(gt_overlap[gt_overlap > 0]):.4f}\")\n",
    "print(f\"Our mean overlap:  {np.mean(overlap_matrix[overlap_matrix > 0]):.4f}\")"
   ]
  },
  {
   "cell_type": "code",
   "execution_count": null,
   "metadata": {},
   "outputs": [],
   "source": []
  }
 ],
 "metadata": {
  "kernelspec": {
   "display_name": "megadepth",
   "language": "python",
   "name": "python3"
  },
  "language_info": {
   "codemirror_mode": {
    "name": "ipython",
    "version": 3
   },
   "file_extension": ".py",
   "mimetype": "text/x-python",
   "name": "python",
   "nbconvert_exporter": "python",
   "pygments_lexer": "ipython3",
   "version": "3.9.16"
  },
  "orig_nbformat": 4
 },
 "nbformat": 4,
 "nbformat_minor": 2
}
