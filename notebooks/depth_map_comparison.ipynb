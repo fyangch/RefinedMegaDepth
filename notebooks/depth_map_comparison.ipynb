{
 "cells": [
  {
   "cell_type": "code",
   "execution_count": null,
   "metadata": {},
   "outputs": [],
   "source": [
    "import os\n",
    "import numpy as np\n",
    "from PIL import Image\n",
    "import matplotlib.pyplot as plt\n",
    "\n",
    "from megadepth.utils.io import load_depth_map"
   ]
  },
  {
   "cell_type": "code",
   "execution_count": null,
   "metadata": {},
   "outputs": [],
   "source": [
    "def plot_images(images: list, titles: list, path: str = None) -> None:\n",
    "    fig = plt.figure(figsize=(15, 15))\n",
    "\n",
    "    for i in range(len(images)):\n",
    "        fig.add_subplot(1, len(images), i+1)\n",
    "        plt.axis(\"off\")\n",
    "        plt.imshow(images[i])\n",
    "        plt.title(titles[i])\n",
    "    if path is None:\n",
    "        plt.show()\n",
    "    else:\n",
    "        fig.savefig(path, dpi=600, bbox_inches=\"tight\")\n",
    "    plt.close(fig)\n",
    "    \n",
    "def show_image_depth_filtered(image_name, dense_model_dir, path):\n",
    "    try:\n",
    "        image = Image.open(os.path.join(dense_model_dir, \"..\",\"..\",\"images\", image_name)).convert(\"RGB\")\n",
    "        depth_map = load_depth_map(os.path.join(dense_model_dir, \"stereo\", \"depth_maps\", f\"{image_name}.geometric.bin\"))\n",
    "        filtered_depth_map = depth_map\n",
    "        plt.tight_layout()\n",
    "        plot_images([image, np.log(depth_map), np.log(filtered_depth_map)], [\"Image\", \"Raw Depth Map\",\"Filtered Depth Map\"],path)\n",
    "\n",
    "    except :\n",
    "        print(\"skipped\", image_name)"
   ]
  },
  {
   "cell_type": "code",
   "execution_count": null,
   "metadata": {},
   "outputs": [],
   "source": [
    "dense_model_dir = os.path.join(\"..\", \"data\", \"0229\", \"dense\", \"superpoint_max-superglue-netvlad-50-KA+BA\")\n",
    "image_names = os.listdir(os.path.join(dense_model_dir, \"images\"))\n",
    "for image_name in image_names[:25]:\n",
    "    show_image_depth_filtered(image_name,dense_model_dir, image_name)"
   ]
  }
 ],
 "metadata": {
  "language_info": {
   "name": "python"
  },
  "orig_nbformat": 4
 },
 "nbformat": 4,
 "nbformat_minor": 2
}
