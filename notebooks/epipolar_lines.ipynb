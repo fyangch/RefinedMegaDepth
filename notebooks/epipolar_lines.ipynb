{
 "cells": [
  {
   "cell_type": "code",
   "execution_count": null,
   "metadata": {},
   "outputs": [],
   "source": [
    "import sys\n",
    "\n",
    "sys.path.append(\"../\")"
   ]
  },
  {
   "cell_type": "code",
   "execution_count": null,
   "metadata": {},
   "outputs": [],
   "source": [
    "import os\n",
    "\n",
    "import pycolmap\n",
    "import numpy as np\n",
    "\n",
    "import cv2\n",
    "\n",
    "from megadepth.utils.io import load_image\n",
    "from megadepth.visualization.epipolar_lines import plot_epipolar_lines, plot_images, plot_keypoints, plot_matches"
   ]
  },
  {
   "cell_type": "code",
   "execution_count": null,
   "metadata": {},
   "outputs": [],
   "source": [
    "data_path = \"../data\"\n",
    "scene = \"0047\"\n",
    "model_name = \"superpoint_max-superglue-netvlad-50\"\n",
    "# model_name = \"baseline\"\n",
    "\n",
    "model = pycolmap.Reconstruction(os.path.join(data_path, scene, \"sparse\", model_name))"
   ]
  },
  {
   "cell_type": "code",
   "execution_count": null,
   "metadata": {},
   "outputs": [],
   "source": [
    "idx = 6\n",
    "jdx = 8\n",
    "\n",
    "image2 = model.images[idx]\n",
    "image1 = model.images[jdx]\n",
    "\n",
    "img1 = load_image(os.path.join(data_path, scene, \"images\", image1.name))\n",
    "img2 = load_image(os.path.join(data_path, scene, \"images\", image2.name))\n",
    "\n",
    "\n",
    "points_img1 = np.array([p.xy for p in image1.get_valid_points2D() if p.has_point3D()])\n",
    "points_img2 = np.array([p.xy for p in image2.get_valid_points2D() if p.has_point3D()])\n",
    "\n",
    "matches = []\n",
    "for i, p1 in enumerate(image1.get_valid_points2D()):\n",
    "    if p1.has_point3D():\n",
    "        for j, p2 in enumerate(image2.get_valid_points2D()):\n",
    "            if p2.has_point3D() and p1.point3D_id == p2.point3D_id:\n",
    "                matches.append((i, j))\n",
    "                break\n",
    "\n",
    "matches = np.array([[points_img1[i], points_img2[j]] for i, j in matches])\n",
    "\n",
    "plot_images([img1, img2])\n",
    "plot_keypoints([points_img1, points_img2], ps=4)\n",
    "plot_matches(matches[:, 0], matches[:, 1])"
   ]
  },
  {
   "cell_type": "code",
   "execution_count": null,
   "metadata": {},
   "outputs": [],
   "source": [
    "n = 5\n",
    "idx = 8\n",
    "jdx = 6\n",
    "\n",
    "F, _ = cv2.findFundamentalMat(matches[:, 0], matches[:, 1], cv2.FM_RANSAC)\n",
    "\n",
    "plot_images([img1, img2])\n",
    "plot_keypoints([points_img1, points_img2], ps=4)\n",
    "plot_matches(matches[:n, 0], matches[:n, 1])\n",
    "plot_epipolar_lines(matches[:n, 0], matches[:n, 1], F)"
   ]
  },
  {
   "cell_type": "code",
   "execution_count": null,
   "metadata": {},
   "outputs": [],
   "source": [
    "help(pycolmap)"
   ]
  },
  {
   "cell_type": "code",
   "execution_count": null,
   "metadata": {},
   "outputs": [],
   "source": [
    "from PIL import Image\n",
    "\n",
    "img = Image.open(os.path.join(data_path, scene, \"images\", image1.name))"
   ]
  }
 ],
 "metadata": {
  "kernelspec": {
   "display_name": "megadepth",
   "language": "python",
   "name": "python3"
  },
  "language_info": {
   "codemirror_mode": {
    "name": "ipython",
    "version": 3
   },
   "file_extension": ".py",
   "mimetype": "text/x-python",
   "name": "python",
   "nbconvert_exporter": "python",
   "pygments_lexer": "ipython3",
   "version": "3.9.16"
  },
  "orig_nbformat": 4
 },
 "nbformat": 4,
 "nbformat_minor": 2
}
