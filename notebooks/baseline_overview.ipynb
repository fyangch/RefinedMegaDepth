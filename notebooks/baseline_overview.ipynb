{
 "cells": [
  {
   "cell_type": "code",
   "execution_count": null,
   "metadata": {},
   "outputs": [],
   "source": [
    "import json\n",
    "\n",
    "import matplotlib.pyplot as plt"
   ]
  },
  {
   "cell_type": "code",
   "execution_count": null,
   "metadata": {},
   "outputs": [],
   "source": [
    "BASELINE_JSON = \"../data/baseline_overview.json\""
   ]
  },
  {
   "cell_type": "code",
   "execution_count": null,
   "metadata": {},
   "outputs": [],
   "source": [
    "baseline_metrics = json.load(open(BASELINE_JSON, \"r\"))\n",
    "scenes = sorted(baseline_metrics.keys())\n",
    "print(f\"Loaded metrics for {len(scenes)} scenes\")"
   ]
  },
  {
   "cell_type": "code",
   "execution_count": null,
   "metadata": {},
   "outputs": [],
   "source": [
    "metrics = [\n",
    "    \"n_images\",\n",
    "    \"n_reg_images\",\n",
    "    \"perc_reg_images\",\n",
    "    \"mean_reprojection_error\",\n",
    "    \"mean_obs_per_reg_image\",\n",
    "    \"n_observations\",\n",
    "    \"mean_track_length\",\n",
    "    \"mean_overlap\",\n",
    "]"
   ]
  },
  {
   "cell_type": "code",
   "execution_count": null,
   "metadata": {},
   "outputs": [],
   "source": [
    "for scene in scenes:\n",
    "    print(f\"Scene: {scene}\")\n",
    "    print(f\"\\tN images:            {baseline_metrics[scene][0]['n_images']}\")\n",
    "    print(f\"\\tN registered images: {baseline_metrics[scene][0]['n_reg_images']}\")\n",
    "    print(f\"\\t% registered images: {baseline_metrics[scene][0]['perc_reg_images']}\")\n",
    "    "
   ]
  },
  {
   "cell_type": "code",
   "execution_count": null,
   "metadata": {},
   "outputs": [],
   "source": [
    "colors = plt.rcParams[\"axes.prop_cycle\"].by_key()[\"color\"]\n",
    "\n",
    "for metric in metrics:\n",
    "    data = [baseline_metrics[scene][0][metric] for scene in scenes]\n",
    "\n",
    "    plt.figure(figsize=(20, 5))\n",
    "    plt.title(f\"{metric} - Mean: {sum(data) / len(data):.2f} - Min: {min(data):.2f} - Max: {max(data):.2f}\")\n",
    "    plt.bar(scenes, data, color=colors)\n",
    "    plt.xticks(rotation=20)\n",
    "    plt.savefig(f\"../plots/baseline_overview/{metric}.png\")\n",
    "    plt.show()\n"
   ]
  },
  {
   "cell_type": "code",
   "execution_count": null,
   "metadata": {},
   "outputs": [],
   "source": [
    "n_images = [baseline_metrics[scene][0][\"n_images\"] for scene in scenes]\n",
    "n_reg_images = [baseline_metrics[scene][0][\"n_reg_images\"] for scene in scenes]\n",
    "\n",
    "plt.figure(figsize=(20, 5))\n",
    "plt.title(\"Images / Registered Images\")\n",
    "plt.bar(scenes, n_images, color=colors, alpha=0.5, label=\"Images\")\n",
    "plt.bar(scenes, n_reg_images, color=colors, label=\"Registered Images\")\n",
    "plt.xticks(rotation=20)\n",
    "plt.legend()\n",
    "\n",
    "plt.savefig(\"../plots/baseline_overview/images-vs-reg-images.png\")\n",
    "plt.show()"
   ]
  },
  {
   "cell_type": "code",
   "execution_count": null,
   "metadata": {},
   "outputs": [],
   "source": [
    "path = \"../data/md_image_counts.txt\"\n",
    "with open(path, \"r\") as f:\n",
    "    md_img_counts = f.readlines()\n",
    "\n",
    "md_img_counts = [line.strip() for line in md_img_counts]\n",
    "md_img_counts = [int(line) for line in md_img_counts]\n",
    "len(md_img_counts)"
   ]
  },
  {
   "cell_type": "code",
   "execution_count": null,
   "metadata": {},
   "outputs": [],
   "source": [
    "plt.figure(figsize=(20, 5))\n",
    "plt.title(\"Images / Registered Images / MD Images\")\n",
    "plt.bar(scenes, n_images, color=colors, alpha=0.2, label=\"Images\")\n",
    "plt.bar(scenes, n_reg_images, color=colors, alpha=0.5, label=\"Registered Images\")\n",
    "plt.bar(scenes, md_img_counts, color=colors, label=\"MD Images\")\n",
    "plt.xticks(rotation=20)\n",
    "plt.legend()\n",
    "\n",
    "plt.savefig(\"../plots/baseline_overview/images-vs-md_images.png\")\n",
    "plt.show()"
   ]
  },
  {
   "cell_type": "code",
   "execution_count": null,
   "metadata": {},
   "outputs": [],
   "source": [
    "perc_md_images = [n / n_images[i] for i, n in enumerate(md_img_counts)]\n",
    "\n",
    "plt.figure(figsize=(20, 5))\n",
    "plt.title(f\"Percentage of MD Images - Mean {sum(perc_md_images) / len(perc_md_images):.2f}\")\n",
    "plt.bar(scenes, perc_md_images, color=colors)\n",
    "plt.xticks(rotation=20)\n",
    "\n",
    "plt.savefig(\"../plots/baseline_overview/percentage-md-images.png\")\n",
    "plt.show()"
   ]
  },
  {
   "cell_type": "code",
   "execution_count": null,
   "metadata": {},
   "outputs": [],
   "source": [
    "mean = sum(perc_md_images[:-4]) / (len(perc_md_images[:-4]))\n",
    "\n",
    "print(f\"Mean without last scenes: {mean:.2f} %\")"
   ]
  },
  {
   "cell_type": "code",
   "execution_count": null,
   "metadata": {},
   "outputs": [],
   "source": [
    "# correct mean of md images\n",
    "total_md = sum(md_img_counts)\n",
    "\n",
    "total_images = sum(n_images)\n",
    "\n",
    "print(f\"Total MD Images: {total_md}\")\n",
    "print(f\"Total Images: {total_images}\")\n",
    "\n",
    "print(f\"Corrected Mean: {total_md / total_images * 100:.2f} %\")"
   ]
  },
  {
   "cell_type": "code",
   "execution_count": null,
   "metadata": {},
   "outputs": [],
   "source": [
    "data = {\n",
    "    \"0015\": {\n",
    "        \"n_images\": 3836,\n",
    "        \"base_reg_images\": 2429,\n",
    "        \"super_reg_images\": 3279,\n",
    "    },\n",
    "    \"0016\": {\n",
    "        \"n_images\": 2724,\n",
    "        \"base_reg_images\": 2053,\n",
    "        \"super_reg_images\": 2604,\n",
    "    },\n",
    "    \"0022\": {\n",
    "        \"n_images\": 2730,\n",
    "        \"base_reg_images\": 1930,\n",
    "        \"super_reg_images\": 2620,\n",
    "    },\n",
    "    \"0047\": {\n",
    "        \"n_images\": 1183,\n",
    "        \"base_reg_images\": 306,\n",
    "        \"super_reg_images\": 1134,\n",
    "    },\n",
    "    \"0058\": {\n",
    "        \"n_images\": 1761,\n",
    "        \"base_reg_images\": 408,\n",
    "        \"super_reg_images\": 1722,\n",
    "    },\n",
    "    \"0064\": {\n",
    "        \"n_images\": 7191,\n",
    "        \"base_reg_images\": 1074,\n",
    "        \"super_reg_images\": 4445,\n",
    "    },\n",
    "    \"0121\": {\n",
    "        \"n_images\": 7573,\n",
    "        \"base_reg_images\": 1214,\n",
    "        \"super_reg_images\": 4514,\n",
    "    },\n",
    "    \"0133\": {\n",
    "        \"n_images\": 5898,\n",
    "        \"base_reg_images\": 609,\n",
    "        \"super_reg_images\": 1749,\n",
    "    },\n",
    "    # \"0217\": {\n",
    "    #     \"n_images\": 1129,\n",
    "    #     \"base_reg_images\": 164,\n",
    "    #     \"super_reg_images\": 0,\n",
    "    # },\n",
    "    \"0229\": {\n",
    "        \"n_images\": 821,\n",
    "        \"base_reg_images\": 318,\n",
    "        \"super_reg_images\": 617,\n",
    "    },\n",
    "}\n",
    "\n",
    "plt.figure(figsize=(10, 5))\n",
    "plt.title(\"Images / Registered Images\")\n",
    "plt.bar(data.keys(), [d[\"n_images\"] for d in data.values()], color=colors, alpha=0.5, label=\"Images\")\n",
    "plt.bar(data.keys(), [d[\"base_reg_images\"] for d in data.values()], color=colors, label=\"Registered Images\")\n",
    "plt.xticks(rotation=20)\n",
    "plt.legend()\n",
    "\n",
    "plt.savefig(\"../plots/baseline_overview/baseline-registered.png\")\n",
    "plt.show()\n",
    "\n",
    "mean_reg = sum(d[\"base_reg_images\"] / d[\"n_images\"] for d in data.values()) / len(data)\n",
    "print(f\"Mean registered images:          {mean_reg*100:.1f} %\")\n",
    "\n",
    "w_mean_reg = sum(d[\"base_reg_images\"] for d in data.values()) / sum(d[\"n_images\"] for d in data.values())\n",
    "print(f\"Weighted mean registered images: {w_mean_reg*100:.1f} %\")\n"
   ]
  },
  {
   "cell_type": "code",
   "execution_count": null,
   "metadata": {},
   "outputs": [],
   "source": [
    "plt.figure(figsize=(10, 5))\n",
    "plt.title(\"Images / Registered Images\")\n",
    "plt.bar(data.keys(), [d[\"n_images\"] for d in data.values()], color=colors, alpha=0.5, label=\"Images\")\n",
    "plt.bar(data.keys(), [d[\"super_reg_images\"] for d in data.values()], color=colors, label=\"Registered Images\")\n",
    "plt.xticks(rotation=20)\n",
    "plt.legend()\n",
    "\n",
    "plt.savefig(\"../plots/baseline_overview/super-registered.png\")\n",
    "plt.show()\n",
    "\n",
    "mean_reg = sum(d[\"super_reg_images\"] / d[\"n_images\"] for d in data.values()) / len(data)\n",
    "print(f\"Mean registered images:          {mean_reg*100:.1f} %\")\n",
    "\n",
    "w_mean_reg = sum(d[\"super_reg_images\"] for d in data.values()) / sum(d[\"n_images\"] for d in data.values())\n",
    "print(f\"Weighted mean registered images: {w_mean_reg*100:.1f} %\")"
   ]
  },
  {
   "cell_type": "code",
   "execution_count": null,
   "metadata": {},
   "outputs": [],
   "source": []
  }
 ],
 "metadata": {
  "kernelspec": {
   "display_name": "megadepth",
   "language": "python",
   "name": "python3"
  },
  "language_info": {
   "codemirror_mode": {
    "name": "ipython",
    "version": 3
   },
   "file_extension": ".py",
   "mimetype": "text/x-python",
   "name": "python",
   "nbconvert_exporter": "python",
   "pygments_lexer": "ipython3",
   "version": "3.9.16"
  },
  "orig_nbformat": 4
 },
 "nbformat": 4,
 "nbformat_minor": 2
}
