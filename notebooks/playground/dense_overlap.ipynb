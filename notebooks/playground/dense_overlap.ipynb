{
 "cells": [
  {
   "cell_type": "markdown",
   "metadata": {},
   "source": [
    "# Dense Overlap Score Demo\n",
    "This notebook explains step by step how the dense overlap score is computed for a given pair of images.\n",
    "\n",
    "### Setup"
   ]
  },
  {
   "cell_type": "code",
   "execution_count": null,
   "metadata": {},
   "outputs": [],
   "source": [
    "%load_ext autoreload\n",
    "%autoreload 2"
   ]
  },
  {
   "cell_type": "code",
   "execution_count": null,
   "metadata": {},
   "outputs": [],
   "source": [
    "import os\n",
    "import numpy as np\n",
    "import pycolmap\n",
    "import matplotlib.pyplot as plt\n",
    "from matplotlib.image import imread\n",
    "\n",
    "from megadepth.utils.projections import backward_project, forward_project\n",
    "from megadepth.utils.utils import camera_pixel_grid\n",
    "from megadepth.utils.read_write_model import qvec2rotmat\n",
    "from megadepth.utils.io import load_depth_map"
   ]
  },
  {
   "cell_type": "code",
   "execution_count": null,
   "metadata": {},
   "outputs": [],
   "source": [
    "def plot_images(images: list, titles: list) -> None:\n",
    "    fig = plt.figure(figsize=(30, 30))\n",
    "\n",
    "    for i in range(len(images)):\n",
    "        fig.add_subplot(1, len(images), i + 1)\n",
    "        plt.axis(\"off\")\n",
    "        plt.imshow(images[i])\n",
    "        plt.title(titles[i])\n",
    "\n",
    "    plt.show()\n",
    "\n",
    "\n",
    "def single_scatter_plot(x, y, c, title=\"\"):\n",
    "    fig, ax = plt.subplots(1, 1, figsize=(8, 6))\n",
    "    plt.gca().invert_yaxis()\n",
    "    ax.scatter(x, y, c=c, s=1)\n",
    "    plt.title(title)\n",
    "    plt.show()\n",
    "\n",
    "\n",
    "def multiple_scatter_plots(x: list, y: list, c: list, titles: list):\n",
    "    n = len(x)\n",
    "    fig, axes = plt.subplots(1, n, figsize=(8 * n, 6))\n",
    "    for i in range(n):\n",
    "        axes[i].invert_yaxis()\n",
    "        axes[i].scatter(x[i], y[i], c=c[i], s=1)\n",
    "        axes[i].title.set_text(titles[i])\n",
    "    plt.show()"
   ]
  },
  {
   "cell_type": "markdown",
   "metadata": {},
   "source": [
    "Feel free to change the variables in the following cell to try out different things:"
   ]
  },
  {
   "cell_type": "code",
   "execution_count": null,
   "metadata": {},
   "outputs": [],
   "source": [
    "# path to the directory that contains the following subdirectories of the dense reconstruction:\n",
    "# \"image\", \"sparse\", \"stereo/depth_maps\"\n",
    "dense_model_dir = os.path.join(\"..\", \"..\", \"5018\", \"dense\", \"superpoint_max-superglue-netvlad-50\")\n",
    "sparse_model_dir = os.path.join(\"..\", \"..\", \"5018\", \"sparse\", \"superpoint_max-superglue-netvlad-50\")\n",
    "\n",
    "# image IDs\n",
    "id_1 = 50\n",
    "id_2 = 56\n",
    "\n",
    "# by which factor to downsample the depth maps for the computation of the score\n",
    "downsample = 10\n",
    "\n",
    "# Dense points with an absolute relative depth error below this threshold are considered as inliers\n",
    "rel_thresh = 0.03"
   ]
  },
  {
   "cell_type": "code",
   "execution_count": null,
   "metadata": {},
   "outputs": [],
   "source": [
    "# load images, cameras and depth maps\n",
    "image_dir = os.path.join(dense_model_dir, \"images\")\n",
    "depth_map_dir = os.path.join(dense_model_dir, \"stereo\", \"depth_maps\")\n",
    "normal_map_dir = os.path.join(dense_model_dir, \"stereo\", \"normal_maps\")\n",
    "\n",
    "reconstruction = pycolmap.Reconstruction(os.path.join(dense_model_dir, \"sparse\"))\n",
    "\n",
    "images = reconstruction.images\n",
    "cameras = reconstruction.cameras\n",
    "point3D = reconstruction.points3D\n",
    "\n",
    "image_1 = images[id_1]\n",
    "image_2 = images[id_2]\n",
    "camera_1 = cameras[image_1.camera_id]\n",
    "camera_2 = cameras[image_2.camera_id]\n",
    "depth_map_1 = load_depth_map(os.path.join(depth_map_dir, f\"{image_1.name}.geometric.bin\"))\n",
    "colors_1 = imread(os.path.join(image_dir, image_1.name))\n",
    "depth_map_2 = load_depth_map(os.path.join(depth_map_dir, f\"{image_2.name}.geometric.bin\"))\n",
    "colors_2 = imread(os.path.join(image_dir, image_2.name))\n",
    "\n",
    "normal_map_1 = load_depth_map(os.path.join(normal_map_dir, f\"{image_1.name}.geometric.bin\"))\n",
    "normal_map_2 = load_depth_map(os.path.join(normal_map_dir, f\"{image_2.name}.geometric.bin\"))\n",
    "\n",
    "plot_images([colors_1, colors_2], [\"Image 1\", \"Image 2\"])\n",
    "plot_images(\n",
    "    [normal_map_1 * 0.5 + 0.5, depth_map_1, normal_map_2 * 0.5 + 0.5, depth_map_2],\n",
    "    [\"Normal Map 1\", \"Depth Map 1\", \"Normal Map 2\", \"Depth Map 2\"],\n",
    ")\n",
    "\n",
    "plot_images([np.abs(normal_map_1[:, :, i]) for i in [0, 1, 2]], \"xyz\")\n",
    "plot_images([np.abs(normal_map_2[:, :, i]) for i in [0, 1, 2]], \"xyz\")"
   ]
  },
  {
   "cell_type": "markdown",
   "metadata": {},
   "source": [
    "### Downsampling\n",
    "As a first step, we downsample the depth map. This speeds up the computation and is a fairly accurate estimation of the actual dense overlap score. We then filter out all invalid depth values."
   ]
  },
  {
   "cell_type": "code",
   "execution_count": null,
   "metadata": {},
   "outputs": [],
   "source": [
    "# gather depth values that we want to check in a vector\n",
    "depth_1 = depth_map_1[::downsample, ::downsample].ravel()\n",
    "normal_1 = normal_map_1[::downsample, ::downsample].reshape(-1, 3)\n",
    "\n",
    "# get the corresponding 2D coordinates in image 1\n",
    "points_2d = camera_pixel_grid(camera_1, downsample)\n",
    "\n",
    "\n",
    "# filter out invalid depth values\n",
    "valid_depth_mask = depth_1 > 0.0\n",
    "depth_1 = depth_1[valid_depth_mask]\n",
    "normal_1 = normal_1[valid_depth_mask]\n",
    "points_2d = points_2d[valid_depth_mask]\n",
    "\n",
    "# number of dense features we are considering for the score computation\n",
    "n_features = depth_1.size\n",
    "\n",
    "print(f\"{n_features} dense features in image 1 will be considered for the overlap score\")"
   ]
  },
  {
   "cell_type": "code",
   "execution_count": null,
   "metadata": {},
   "outputs": [],
   "source": [
    "print(\"We consider the following subsampled pixels for the computation of the dense overlap score:\")\n",
    "\n",
    "# Note: the color values are stored column-wise and not row-wise!\n",
    "rgb = colors_1[points_2d[:, 1].astype(int), points_2d[:, 0].astype(int)] / 255\n",
    "multiple_scatter_plots(\n",
    "    x=2 * [points_2d[:, 0]],\n",
    "    y=2 * [points_2d[:, 1]],\n",
    "    c=[depth_1, normal_1 * 0.5 + 0.5, rgb],\n",
    "    titles=[\"Depth values\", \"Normal values\", \"RGB values\"],\n",
    ")"
   ]
  },
  {
   "cell_type": "markdown",
   "metadata": {},
   "source": [
    "### Backprojection\n",
    "Next, we backproject all dense features from image 1 to 3D using the corresponding (valid) depth values in the first depth map."
   ]
  },
  {
   "cell_type": "code",
   "execution_count": null,
   "metadata": {},
   "outputs": [],
   "source": [
    "# backproject all valid 2D points from image 1 to 3D\n",
    "points_3d = backward_project(\n",
    "    points_2d=points_2d,\n",
    "    image=image_1,\n",
    "    camera=camera_1,\n",
    "    depth=depth_1,\n",
    ")\n",
    "\n",
    "print(\"Dense features from image 1 in 3D:\")\n",
    "fig, ax = plt.subplots(1, 1, figsize=(10, 10), subplot_kw={\"projection\": \"3d\"})\n",
    "ax.scatter(points_3d[:, 0], points_3d[:, 1], points_3d[:, 2], s=1, c=rgb)\n",
    "plt.show()"
   ]
  },
  {
   "cell_type": "markdown",
   "metadata": {},
   "source": [
    "### Forward Projection\n",
    "Then, we project all backprojected 3D points from image 1 to the image space of image 2. All invalid points, i.e. points that lie outside of image 2, are discarded. We calculate the absolute relative depth error between the depth values obtained through the 3D-2D projection and the corresponding depth values in the second depth map."
   ]
  },
  {
   "cell_type": "code",
   "execution_count": null,
   "metadata": {},
   "outputs": [],
   "source": [
    "# project all 3D points to image 2 to obtain 2D points and associated depth values\n",
    "proj_points_2d, proj_depths, proj_mask = forward_project(\n",
    "    points_3d=points_3d, image=image_2, camera=camera_2\n",
    ")\n",
    "\n",
    "# get corresponding depth values from the second depth map\n",
    "depth_2 = depth_map_2[proj_points_2d[:, 1], proj_points_2d[:, 0]]\n",
    "\n",
    "# compute absolute relative depth errors\n",
    "abs_rel_error = np.abs(depth_2 / proj_depths - 1.0)\n",
    "\n",
    "print(\"These are the dense features from image 1 that are successfully projected to image 2:\")\n",
    "\n",
    "multiple_scatter_plots(\n",
    "    x=3 * [proj_points_2d[:, 0]],\n",
    "    y=3 * [proj_points_2d[:, 1]],\n",
    "    c=[proj_depths, depth_2, abs_rel_error],\n",
    "    titles=[\n",
    "        \"Depth values obtained from 3D-2D projection\",\n",
    "        \"Depth values from the second depth map\",\n",
    "        \"Absolute relative depth error\",\n",
    "    ],\n",
    ")\n",
    "\n",
    "\n",
    "# RGB values from image 1 and image 2\n",
    "# Note: the depth map values are stored column-wise and not row-wise!\n",
    "rgb_1 = (\n",
    "    colors_1[points_2d[proj_mask][:, 1].astype(int), points_2d[proj_mask][:, 0].astype(int)] / 255\n",
    ")\n",
    "rgb_2 = colors_2[proj_points_2d[:, 1].astype(int), proj_points_2d[:, 0].astype(int)] / 255\n",
    "\n",
    "multiple_scatter_plots(\n",
    "    x=2 * [points_2d[proj_mask][:, 0]],\n",
    "    y=2 * [points_2d[proj_mask][:, 1]],\n",
    "    c=[rgb_1, rgb_2],\n",
    "    titles=[\n",
    "        \"RGB values from image 1\",\n",
    "        \"RGB values from image 2\",\n",
    "    ],\n",
    ")"
   ]
  },
  {
   "cell_type": "markdown",
   "metadata": {},
   "source": [
    "Here is a histogram that shows the absolute relative depth errors between the asscociated depth values obtained through the projections from 3D to 2D and the actual depth values stored in the second depth map.\n",
    "\n",
    "If a dense feature from image 1 lands on a pixel in image 2 that has an invalid depth value 0.0, the absolute error is 100% because: $$ abs({depth \\over x} - 1.0) = 1.0 $$"
   ]
  },
  {
   "cell_type": "code",
   "execution_count": null,
   "metadata": {},
   "outputs": [],
   "source": [
    "fig, ax = plt.subplots(1, 1, figsize=(10, 5))\n",
    "ax.hist(abs_rel_error, bins=100)\n",
    "plt.show()"
   ]
  },
  {
   "cell_type": "markdown",
   "metadata": {},
   "source": [
    "### Thresholding\n",
    "Finally, we threshold the dense features that were successfully projected to image 2 based on the absolute relative depth error to obtain the final dense overlap score."
   ]
  },
  {
   "cell_type": "code",
   "execution_count": null,
   "metadata": {},
   "outputs": [],
   "source": [
    "n_inliners = np.count_nonzero(abs_rel_error < rel_thresh)\n",
    "score = n_inliners / n_features\n",
    "\n",
    "print(f\"{n_features} dense features in image 1 were considered for the overlap score\")\n",
    "print(\n",
    "    f\"{proj_points_2d.shape[0]} features were succesfully projected to image 2 (i.e. they lie inside image 2)\"\n",
    ")\n",
    "print(\n",
    "    f\"{n_inliners} features have an acceptable absolute relative depth error (less than {rel_thresh * 100}%)\"\n",
    ")\n",
    "\n",
    "print(f\"\\n==> dense overlap score: {score}\")\n",
    "\n",
    "cos_w = np.clip(-normal_map_2[proj_points_2d[:, 1], proj_points_2d[:, 0], 2], 0, 1)\n",
    "print(np.sum(cos_w[abs_rel_error < rel_thresh]) / n_features)"
   ]
  },
  {
   "cell_type": "code",
   "execution_count": null,
   "metadata": {},
   "outputs": [],
   "source": [
    "from megadepth.metrics.overlap import dense_overlap\n",
    "\n",
    "dense_overlap_matrix = dense_overlap(reconstruction, depth_map_dir, 50)"
   ]
  },
  {
   "cell_type": "code",
   "execution_count": null,
   "metadata": {},
   "outputs": [],
   "source": [
    "from megadepth.metrics.overlap import dense_overlap\n",
    "\n",
    "dense_overlap_matrix_cosine_weighted = dense_overlap(\n",
    "    reconstruction, depth_map_dir, 50, cosine_weighted=True, normal_path=normal_map_dir\n",
    ")"
   ]
  },
  {
   "cell_type": "code",
   "execution_count": null,
   "metadata": {},
   "outputs": [],
   "source": [
    "from megadepth.metrics.overlap import sparse_overlap\n",
    "\n",
    "sparse_overlap_matrix = sparse_overlap(reconstruction)"
   ]
  },
  {
   "cell_type": "code",
   "execution_count": null,
   "metadata": {},
   "outputs": [],
   "source": [
    "from megadepth.metrics.angle import angle\n",
    "\n",
    "angle_matrix = angle(reconstruction)\n",
    "fig = plt.figure(figsize=(8, 6))\n",
    "plt.scatter(angle_matrix.ravel(), sparse_overlap_matrix.ravel(), alpha=0.1)\n",
    "plt.scatter(angle_matrix.ravel(), dense_overlap_matrix.ravel(), alpha=0.1)\n",
    "plt.scatter(angle_matrix.ravel(), dense_overlap_matrix_cosine_weighted.ravel(), alpha=0.1)\n",
    "plt.xlabel(\"$cos \\Theta $\")\n",
    "plt.ylabel(\"Score\")\n",
    "plt.legend([\"sparse overlap\", \"dense overlap\", \"cosine weighted dense overlap\"])\n",
    "plt.tight_layout()\n",
    "plt.savefig(\n",
    "    \"scatter.png\",\n",
    ")"
   ]
  },
  {
   "cell_type": "code",
   "execution_count": null,
   "metadata": {},
   "outputs": [],
   "source": [
    "plt.hist(dense_overlap_matrix.ravel(), alpha=0.5)\n",
    "plt.hist(dense_overlap_matrix_cosine_weighted.ravel(), alpha=0.5)\n",
    "plt.legend([\"dense\", \"dense cos-w\"])\n",
    "plt.show()"
   ]
  },
  {
   "cell_type": "code",
   "execution_count": null,
   "metadata": {},
   "outputs": [],
   "source": []
  },
  {
   "cell_type": "code",
   "execution_count": null,
   "metadata": {},
   "outputs": [],
   "source": [
    "from matplotlib.colors import LinearSegmentedColormap\n",
    "\n",
    "fig = plt.figure()\n",
    "color_map = LinearSegmentedColormap.from_list(\"custom_map\", [\"white\", \"tab:orange\"])\n",
    "\n",
    "plt.tight_layout()\n",
    "plt.axis(\"off\")\n",
    "plt.subplot(1, 4, 1)\n",
    "plt.title(\"sparse overlap\")\n",
    "plt.tight_layout()\n",
    "plt.axis(\"off\")\n",
    "plt.imshow(sparse_overlap_matrix, interpolation=\"nearest\", cmap=color_map)\n",
    "plt.subplot(1, 4, 2)\n",
    "plt.title(\"dense overlap\")\n",
    "plt.tight_layout()\n",
    "plt.axis(\"off\")\n",
    "plt.imshow(dense_overlap_matrix, interpolation=\"nearest\", cmap=color_map)\n",
    "plt.subplot(1, 4, 3)\n",
    "plt.title(\"dense overlap cos w\")\n",
    "plt.tight_layout()\n",
    "plt.axis(\"off\")\n",
    "plt.imshow(dense_overlap_matrix_cosine_weighted, interpolation=\"nearest\", cmap=color_map)\n",
    "plt.subplot(1, 4, 4)\n",
    "plt.title(\"diff\")\n",
    "plt.tight_layout()\n",
    "plt.axis(\"off\")\n",
    "plt.imshow(\n",
    "    dense_overlap_matrix_cosine_weighted - dense_overlap_matrix,\n",
    "    interpolation=\"nearest\",\n",
    "    cmap=color_map,\n",
    ")\n",
    "plt.show()"
   ]
  },
  {
   "cell_type": "code",
   "execution_count": null,
   "metadata": {},
   "outputs": [],
   "source": [
    "from matplotlib.colors import LinearSegmentedColormap\n",
    "\n",
    "color_map = LinearSegmentedColormap.from_list(\"custom_map\", [\"white\", \"tab:orange\"])\n",
    "matrices = [sparse_overlap_matrix, dense_overlap_matrix, dense_overlap_matrix_cosine_weighted]\n",
    "names = [\"sparse_mat.png\", \"cosw_mat.png\", \"dense_mat.png\"]\n",
    "for matrix, path in zip(matrices, names):\n",
    "    fig = plt.figure(figsize=(10, 10))\n",
    "    plt.tight_layout()\n",
    "    plt.axis(\"off\")\n",
    "    plt.imshow(matrix * 0.2, interpolation=\"nearest\", cmap=color_map)\n",
    "    plt.show()\n",
    "    # fig.savefig(path, dpi=600, bbox_inches=\"tight\")\n",
    "    plt.close(fig)"
   ]
  },
  {
   "cell_type": "code",
   "execution_count": null,
   "metadata": {},
   "outputs": [],
   "source": [
    "plt.xlabel(\"sparse\")\n",
    "plt.ylabel(\"dense\")\n",
    "plt.scatter(sparse_overlap_matrix.ravel(), dense_overlap_matrix.ravel())\n",
    "plt.show()"
   ]
  },
  {
   "cell_type": "code",
   "execution_count": null,
   "metadata": {},
   "outputs": [],
   "source": [
    "discrepancy = np.abs(sparse_overlap_matrix - dense_overlap_matrix)\n",
    "\n",
    "i, j = np.indices(discrepancy.shape)\n",
    "i = i.ravel()\n",
    "j = j.ravel()\n",
    "d = discrepancy.ravel()\n",
    "# this ranks the images first, where the two scores are closest, ignoring the cases where both are very small or very big\n",
    "rank = np.argsort(-d + (1 - (1 - dense_overlap_matrix.ravel()) * dense_overlap_matrix.ravel()))\n",
    "\n",
    "d = d[rank]\n",
    "i = i[rank]\n",
    "j = j[rank]\n",
    "keys = list(images.keys())\n",
    "for f in range(3):\n",
    "    print(\n",
    "        f\"discrepancy: {discrepancy[i[f],j[f]]}, sparse: {sparse_overlap_matrix[i[f],j[f]]}, dense: {dense_overlap_matrix[i[f],j[f]]}\"\n",
    "    )\n",
    "    image_1 = images[keys[i[f]]]\n",
    "    image_2 = images[keys[j[f]]]\n",
    "    camera_1 = cameras[image_1.camera_id]\n",
    "    camera_2 = cameras[image_2.camera_id]\n",
    "    colors_1 = imread(os.path.join(image_dir, image_1.name))\n",
    "    colors_2 = imread(os.path.join(image_dir, image_2.name))\n",
    "    plot_images([colors_1, colors_2], [\"i\", \"j\"])"
   ]
  },
  {
   "cell_type": "code",
   "execution_count": null,
   "metadata": {},
   "outputs": [],
   "source": [
    "discrepancy = np.abs(dense_overlap_matrix_cosine_weighted - dense_overlap_matrix)\n",
    "for i in range(discrepancy.shape[0]):\n",
    "    discrepancy[i, i] = 0\n",
    "\n",
    "i, j = np.indices(discrepancy.shape)\n",
    "i = i.ravel()\n",
    "j = j.ravel()\n",
    "d = discrepancy.ravel()\n",
    "# this ranks the images first, where the two scores differ the most\n",
    "rank = np.argsort(\n",
    "    -d\n",
    "    + (\n",
    "        1\n",
    "        - (1 - dense_overlap_matrix_cosine_weighted.ravel())\n",
    "        * dense_overlap_matrix_cosine_weighted.ravel()\n",
    "    )\n",
    ")\n",
    "d = d[rank]\n",
    "i = i[rank]\n",
    "j = j[rank]\n",
    "keys = list(images.keys())\n",
    "for f in range(3):\n",
    "    print(\n",
    "        f\"discrepancy: {discrepancy[i[f],j[f]]}, sparse: {sparse_overlap_matrix[i[f],j[f]]}, dense_cos_w: {dense_overlap_matrix_cosine_weighted[i[f],j[f]]}, dense: {dense_overlap_matrix[i[f],j[f]]}\"\n",
    "    )\n",
    "    print(\n",
    "        f\"discrepancy: {discrepancy[j[f],i[f]]}, sparse: {sparse_overlap_matrix[i[f],j[f]]}, dense_cos_w: {dense_overlap_matrix_cosine_weighted[j[f],i[f]]}, dense: {dense_overlap_matrix[j[f],i[f]]}\"\n",
    "    )\n",
    "    image_1 = images[keys[i[f]]]\n",
    "    image_2 = images[keys[j[f]]]\n",
    "    print(keys[i[f]], keys[j[f]])\n",
    "    camera_1 = cameras[image_1.camera_id]\n",
    "    camera_2 = cameras[image_2.camera_id]\n",
    "    colors_1 = imread(os.path.join(image_dir, image_1.name))\n",
    "    colors_2 = imread(os.path.join(image_dir, image_2.name))\n",
    "    plot_images([colors_1, colors_2], [\"i\", \"j\"])"
   ]
  },
  {
   "cell_type": "code",
   "execution_count": null,
   "metadata": {},
   "outputs": [],
   "source": [
    "from megadepth.visualization.view_overlap import vis_overlap\n",
    "from megadepth.visualization.view_projections import pca, create_view_projection_figure\n",
    "from megadepth.utils.projections import get_camera_poses\n",
    "\n",
    "camera_poses = get_camera_poses(reconstruction)\n",
    "points = np.array([p.xyz for p in reconstruction.points3D.values()])\n",
    "align = pca(camera_poses)\n",
    "# create_view_projection_figure( [align(points),align(camera_poses)], limit=3,alpha=.5)\n",
    "# create_view_projection_figure([align(points),align(camera_poses)],view=0, limit=2,alpha=.5)"
   ]
  },
  {
   "cell_type": "code",
   "execution_count": null,
   "metadata": {},
   "outputs": [],
   "source": [
    "print(\"cosine weighted dense overlap\")\n",
    "vis_overlap(\n",
    "    dense_overlap_matrix_cosine_weighted,\n",
    "    align(camera_poses),\n",
    "    align(points),\n",
    "    path=\"cos_w2.png\",\n",
    "    opacity=0.3,\n",
    ")\n",
    "print(\"dense overlap\")\n",
    "vis_overlap(\n",
    "    dense_overlap_matrix, align(camera_poses), align(points), path=\"dense2.png\", opacity=0.3\n",
    ")\n",
    "print(\"sparse overlap\")\n",
    "vis_overlap(\n",
    "    sparse_overlap_matrix, align(camera_poses), align(points), path=\"sparse2.png\", opacity=0.3\n",
    ")"
   ]
  },
  {
   "cell_type": "code",
   "execution_count": null,
   "metadata": {},
   "outputs": [],
   "source": [
    "print(\"sparse overlap\")\n",
    "vis_overlap(angle_matrix, align(camera_poses), align(points))\n",
    "vis_overlap(angle_matrix, align(camera_poses), align(points))\n",
    "i_matrix = np.zeros_like(dense_overlap_matrix)\n",
    "i_matrix[:, [0, 50, 70]] = dense_overlap_matrix[:, [0, 50, 70]]\n",
    "vis_overlap(i_matrix, align(camera_poses), align(points), opacity=1)\n",
    "print(\"sparse overlap\")\n",
    "vis_overlap(sparse_overlap_matrix, align(camera_poses), align(points))\n",
    "print(\"dense overlap\")\n",
    "vis_overlap(dense_overlap_matrix, align(camera_poses), align(points))\n",
    "print(\"cosine weighted dense overlap\")\n",
    "vis_overlap(dense_overlap_matrix_cosine_weighted, align(camera_poses), align(points))\n",
    "print(\"difference of cosine weight\")\n",
    "vis_overlap(\n",
    "    dense_overlap_matrix_cosine_weighted - angle_matrix * dense_overlap_matrix,\n",
    "    align(camera_poses),\n",
    "    align(points),\n",
    ")"
   ]
  },
  {
   "cell_type": "code",
   "execution_count": null,
   "metadata": {},
   "outputs": [],
   "source": [
    "import matplotlib.pyplot as plt\n",
    "from matplotlib.offsetbox import OffsetImage, AnnotationBbox\n",
    "import cv2\n",
    "\n",
    "\n",
    "def getImage(path, zoom=0.015):\n",
    "    img = cv2.imread(path)[:, :, ::-1]\n",
    "    # img = cv2.resize(img,(100,100))\n",
    "    return OffsetImage(img, zoom=zoom)\n",
    "\n",
    "\n",
    "fig, ax = plt.subplots()\n",
    "\n",
    "\n",
    "matrix = dense_overlap_matrix\n",
    "\n",
    "n = matrix.shape[0]\n",
    "k = 5\n",
    "i = 0\n",
    "j = np.array(range(n))\n",
    "dense = matrix[i, j]\n",
    "dense_w = matrix[i, j]\n",
    "sparse = matrix[i, j]\n",
    "keys = list(images.keys())\n",
    "img_list = []\n",
    "for jj in j:\n",
    "    image = images[keys[jj]]\n",
    "    colors_1 = os.path.join(image_dir, image.name)\n",
    "    img_list += [colors_1]\n",
    "\n",
    "cam = align(camera_poses)\n",
    "x_y = cam[j, :2]\n",
    "x = matrix[j, i]\n",
    "y = matrix[i, j]\n",
    "print(x_y.shape)\n",
    "\n",
    "fig = plt.figure(figsize=(10, 10), dpi=2000)\n",
    "ax.set_xlabel(\"Dense( : , R )\")  # Set x-axis label\n",
    "ax.set_ylabel(\"Dense( R , : )\")  # Set y-axis label\n",
    "\n",
    "ax.scatter(x, y)\n",
    "for x0, y0, path in zip(x, y, img_list):\n",
    "    ab = AnnotationBbox(getImage(path), (x0, y0), frameon=False)\n",
    "    ax.add_artist(ab)\n",
    "\n",
    "# fig.savefig(\"overlap.png\", dpi=600, bbox_inches=\"tight\")\n",
    "plt.show()\n",
    "\n",
    "\n",
    "\"\"\"\n",
    "#plot_images_on_scatter(img_list, dense,dense_w, 100)\n",
    "\n",
    "plt.scatter(dense_overlap_matrix.ravel(),sparse_overlap_matrix.ravel(), alpha = 0.01)\n",
    "plt.scatter(dense_overlap_matrix.ravel(),dense_overlap_matrix_cosine_weighted.ravel(), alpha = 0.01)\n",
    "plt.scatter(dense_overlap_matrix_cosine_weighted.ravel(),sparse_overlap_matrix.ravel(), alpha = 0.01)\n",
    "\n",
    "plt.scatter(dense.ravel(),sparse.ravel(),color='tab:blue')\n",
    "plt.scatter(dense.ravel(),dense_w.ravel(), color = 'tab:orange')\n",
    "plt.scatter(dense_w.ravel(),sparse.ravel(),color='tab:green')\n",
    "x = np.stack([dense,dense,dense_w])\n",
    "y = np.stack([dense_w,sparse,sparse])\n",
    "plt.plot(x,y,color=\"black\", linewidth=1)\n",
    "plt.show()\"\"\""
   ]
  },
  {
   "cell_type": "code",
   "execution_count": null,
   "metadata": {},
   "outputs": [],
   "source": [
    "np.save(\"cosw.npy\", dense_overlap_matrix_cosine_weighted)\n",
    "np.save(\"dense.npy\", dense_overlap_matrix)"
   ]
  },
  {
   "cell_type": "code",
   "execution_count": null,
   "metadata": {},
   "outputs": [],
   "source": [
    "dense_overlap_matrix_cosine_weighted = np.load(\"cosw.npy\")\n",
    "dense_overlap_matrix = np.load(\"dense.npy\")"
   ]
  },
  {
   "cell_type": "code",
   "execution_count": null,
   "metadata": {},
   "outputs": [],
   "source": []
  }
 ],
 "metadata": {
  "kernelspec": {
   "display_name": "Python 3 (ipykernel)",
   "language": "python",
   "name": "python3"
  },
  "language_info": {
   "codemirror_mode": {
    "name": "ipython",
    "version": 3
   },
   "file_extension": ".py",
   "mimetype": "text/x-python",
   "name": "python",
   "nbconvert_exporter": "python",
   "pygments_lexer": "ipython3",
   "version": "3.9.16"
  }
 },
 "nbformat": 4,
 "nbformat_minor": 2
}
