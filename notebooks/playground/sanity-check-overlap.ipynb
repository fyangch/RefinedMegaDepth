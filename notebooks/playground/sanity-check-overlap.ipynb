{
 "cells": [
  {
   "cell_type": "code",
   "execution_count": null,
   "metadata": {},
   "outputs": [],
   "source": [
    "import os\n",
    "import numpy as np\n",
    "\n",
    "import pycolmap\n",
    "from megadepth.metrics.overlap import sparse_overlap"
   ]
  },
  {
   "cell_type": "code",
   "execution_count": null,
   "metadata": {},
   "outputs": [],
   "source": [
    "scene_info_path = \"/Volumes/Extreme_SSD/MegaDepth/scene_info\"\n",
    "scenes_path = \"/Volumes/Extreme_SSD/MegaDepth/scenes\""
   ]
  },
  {
   "cell_type": "code",
   "execution_count": null,
   "metadata": {},
   "outputs": [],
   "source": [
    "SCENE = \"0022\"\n",
    "scene_info = np.load(os.path.join(scene_info_path, f\"{SCENE}.npz\"))\n",
    "model = pycolmap.Reconstruction(os.path.join(scenes_path, SCENE, \"sparse/baseline\"))"
   ]
  },
  {
   "cell_type": "code",
   "execution_count": null,
   "metadata": {},
   "outputs": [],
   "source": [
    "scene_info.files"
   ]
  },
  {
   "cell_type": "code",
   "execution_count": null,
   "metadata": {},
   "outputs": [],
   "source": [
    "gt_overlap = scene_info[\"overlap_matrix\"]"
   ]
  },
  {
   "cell_type": "code",
   "execution_count": null,
   "metadata": {},
   "outputs": [],
   "source": [
    "overlap_matrix = sparse_overlap(model)"
   ]
  },
  {
   "cell_type": "code",
   "execution_count": null,
   "metadata": {},
   "outputs": [],
   "source": [
    "print(f\"GT  overlap shape: {gt_overlap.shape}\")\n",
    "print(f\"Our overlap shape: {overlap_matrix.shape}\")\n",
    "print(f\"GT  mean overlap:  {np.mean(gt_overlap[gt_overlap > 0]):.4f}\")\n",
    "print(f\"Our mean overlap:  {np.mean(overlap_matrix[overlap_matrix > 0]):.4f}\")"
   ]
  },
  {
   "cell_type": "code",
   "execution_count": null,
   "metadata": {},
   "outputs": [],
   "source": [
    "scenes = []\n",
    "gt_overlaps = []\n",
    "our_overlaps = []\n",
    "for scene in os.listdir(scenes_path):\n",
    "    if scene.startswith(\".\"):\n",
    "        continue\n",
    "    scene_info = np.load(os.path.join(scene_info_path, f\"{scene}.npz\"))\n",
    "    model = pycolmap.Reconstruction(os.path.join(scenes_path, scene, \"sparse/baseline\"))\n",
    "    overlap_matrix = sparse_overlap(model)\n",
    "    mean_overlap = np.mean(overlap_matrix[overlap_matrix > 0])\n",
    "    gt_overlap = np.mean(scene_info[\"overlap_matrix\"] > 0)\n",
    "    print(\"-\" * 30)\n",
    "    print(f\"Scene: {scene}\")\n",
    "    print(f\"GT  overlap shape: {scene_info['overlap_matrix'].shape}\")\n",
    "    print(f\"Our overlap shape: {overlap_matrix.shape}\")\n",
    "    print(f\"GT  mean overlap:  {gt_overlap:.4f}\")\n",
    "    print(f\"Our mean overlap:  {mean_overlap:.4f}\")\n",
    "\n",
    "    scenes.append(scene)\n",
    "    gt_overlaps.append(gt_overlap)\n",
    "    our_overlaps.append(mean_overlap)"
   ]
  },
  {
   "cell_type": "code",
   "execution_count": null,
   "metadata": {},
   "outputs": [],
   "source": [
    "import matplotlib.pyplot as plt\n",
    "\n",
    "fig, ax = plt.subplots(figsize=(5, 5))\n",
    "plt.scatter(gt_overlaps, our_overlaps)\n",
    "plt.plot([0, 1], [0, 1], \"k--\", label=\"Goal\")\n",
    "plt.ylabel(\"GT overlap\")\n",
    "plt.xlabel(\"Our overlap\")\n",
    "plt.xlim(0, 1)\n",
    "plt.ylim(0, 1)\n",
    "plt.legend()\n",
    "plt.show()"
   ]
  }
 ],
 "metadata": {
  "kernelspec": {
   "display_name": "megadepth",
   "language": "python",
   "name": "python3"
  },
  "language_info": {
   "codemirror_mode": {
    "name": "ipython",
    "version": 3
   },
   "file_extension": ".py",
   "mimetype": "text/x-python",
   "name": "python",
   "nbconvert_exporter": "python",
   "pygments_lexer": "ipython3",
   "version": "3.9.16"
  }
 },
 "nbformat": 4,
 "nbformat_minor": 2
}
