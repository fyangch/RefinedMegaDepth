{
 "cells": [
  {
   "cell_type": "code",
   "execution_count": null,
   "metadata": {},
   "outputs": [],
   "source": [
    "import os\n",
    "\n",
    "from exif import Image\n",
    "import folium\n",
    "\n",
    "from tqdm import tqdm"
   ]
  },
  {
   "cell_type": "code",
   "execution_count": null,
   "metadata": {},
   "outputs": [],
   "source": [
    "scene = '0015'\n",
    "img_dir = f'/Volumes/Extreme_SSD/MegaDepth/scenes/{scene}/images/'\n",
    "\n",
    "img_list = os.listdir(img_dir)\n",
    "\n",
    "exif_list = []\n",
    "for img in tqdm(img_list):\n",
    "\n",
    "    try:\n",
    "        img_path = os.path.join(img_dir, img)\n",
    "        with open(img_path, 'rb') as src:\n",
    "            img = Image(src)\n",
    "\n",
    "        if img.has_exif and img.gps_longitude:\n",
    "            exif_list.append(img_path)\n",
    "    except:\n",
    "        pass\n",
    "\n",
    "len(exif_list)"
   ]
  },
  {
   "cell_type": "code",
   "execution_count": null,
   "metadata": {},
   "outputs": [],
   "source": [
    "def decimal_coords(coords, ref):\n",
    " decimal_degrees = coords[0] + coords[1] / 60 + coords[2] / 3600\n",
    " if ref == \"S\" or ref == \"W\":\n",
    "     decimal_degrees = -decimal_degrees\n",
    " return decimal_degrees\n",
    "\n",
    "def image_coordinates(image_path):\n",
    "    with open(image_path, 'rb') as src:\n",
    "        img = Image(src)\n",
    "    if img.has_exif:\n",
    "        try:\n",
    "            img.gps_longitude\n",
    "            coords = (decimal_coords(img.gps_latitude,\n",
    "                      img.gps_latitude_ref),\n",
    "                      decimal_coords(img.gps_longitude,\n",
    "                      img.gps_longitude_ref))\n",
    "        except AttributeError:\n",
    "            print('No Coordinates')\n",
    "            coords = None\n",
    "        except NotImplementedError:\n",
    "            print('No Coordinates')\n",
    "            coords = None\n",
    "    else:\n",
    "        print('The Image has no EXIF information')\n",
    "        return None\n",
    "\n",
    "    return coords"
   ]
  },
  {
   "cell_type": "code",
   "execution_count": null,
   "metadata": {},
   "outputs": [],
   "source": [
    "# plot location on map\n",
    "def plot_map(coords: list, paths: list):\n",
    "    map = folium.Map(location=coords[0], zoom_start=15)\n",
    "    for coord, path in zip(coords, paths):\n",
    "        folium.Marker(coord, popup=path).add_to(map)\n",
    "    return map\n",
    "\n",
    "coords = [image_coordinates(img_path) for img_path in exif_list]\n",
    "coords = [coord for coord in coords if coord is not None]\n",
    "exif_list = [img_path for img_path, coord in zip(exif_list, coords) if coord is not None]\n",
    "plot_map(coords, exif_list)"
   ]
  },
  {
   "cell_type": "code",
   "execution_count": null,
   "metadata": {},
   "outputs": [],
   "source": []
  }
 ],
 "metadata": {
  "kernelspec": {
   "display_name": "megadepth",
   "language": "python",
   "name": "python3"
  },
  "language_info": {
   "codemirror_mode": {
    "name": "ipython",
    "version": 3
   },
   "file_extension": ".py",
   "mimetype": "text/x-python",
   "name": "python",
   "nbconvert_exporter": "python",
   "pygments_lexer": "ipython3",
   "version": "3.9.16"
  },
  "orig_nbformat": 4
 },
 "nbformat": 4,
 "nbformat_minor": 2
}
