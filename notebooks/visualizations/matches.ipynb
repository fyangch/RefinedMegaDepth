{
 "cells": [
  {
   "cell_type": "code",
   "execution_count": null,
   "metadata": {},
   "outputs": [],
   "source": [
    "import sys\n",
    "\n",
    "sys.path.append('../..')"
   ]
  },
  {
   "cell_type": "code",
   "execution_count": null,
   "metadata": {},
   "outputs": [],
   "source": [
    "from pathlib import Path\n",
    "\n",
    "import pycolmap\n",
    "import numpy as np\n",
    "import matplotlib.pyplot as plt\n",
    "\n",
    "from hloc.utils.io import read_image, get_keypoints, get_matches, list_h5_names\n",
    "from hloc.visualization import plot_images, plot_keypoints, plot_matches"
   ]
  },
  {
   "cell_type": "code",
   "execution_count": null,
   "metadata": {},
   "outputs": [],
   "source": [
    "import logging\n",
    "\n",
    "logger = logging.getLogger(\"hloc\")\n",
    "logger.setLevel(logging.ERROR)"
   ]
  },
  {
   "cell_type": "code",
   "execution_count": null,
   "metadata": {},
   "outputs": [],
   "source": [
    "data = Path(\"../../data/scenes/\")\n",
    "\n",
    "scene = \"0025\"\n",
    "\n",
    "model_name = \"disk\"\n",
    "\n",
    "images = data / scene / \"images\"\n",
    "\n",
    "features = data / scene / \"features\" / f\"{model_name}.h5\"\n",
    "matches = data / scene / \"matches\" / f\"{model_name}.h5\"\n",
    "sparse = data / scene / \"sparse\" / model_name"
   ]
  },
  {
   "cell_type": "code",
   "execution_count": null,
   "metadata": {},
   "outputs": [],
   "source": [
    "model = pycolmap.Reconstruction(sparse)\n",
    "print(model.summary())"
   ]
  },
  {
   "cell_type": "code",
   "execution_count": null,
   "metadata": {},
   "outputs": [],
   "source": [
    "# id0, id1 = 3481, 6237\n",
    "id0, id1 = 5028, 4782\n",
    "\n",
    "name0 = model.images[id0].name\n",
    "name1 = model.images[id1].name\n",
    "\n",
    "print(f\"Image {id0}: {name0}\")\n",
    "print(f\"Image {id1}: {name1}\")"
   ]
  },
  {
   "cell_type": "code",
   "execution_count": null,
   "metadata": {},
   "outputs": [],
   "source": [
    "from hloc import match_features\n",
    "\n",
    "out = data / \"tmp\"\n",
    "\n",
    "if not out.exists():\n",
    "    out.mkdir()\n",
    "\n",
    "pairs_path = out / \"pairs.txt\"\n",
    "with open(pairs_path, \"w\") as f:\n",
    "    f.write(f\"{name0} {name1}\\n\")"
   ]
  },
  {
   "cell_type": "code",
   "execution_count": null,
   "metadata": {},
   "outputs": [],
   "source": [
    "def show_pair(name0, name1):\n",
    "\n",
    "    kpts0, kpts1 = get_keypoints(features, name0), get_keypoints(features, name1)\n",
    "\n",
    "\n",
    "    m, sc = get_matches(out / \"matches.h5\", name0, name1)\n",
    "\n",
    "    print(\"#\" * 40)\n",
    "    print(\"REPORT\")\n",
    "    print(\"#\" * 40)\n",
    "    print(f\"Number of matches: {len(m)}\")\n",
    "    print(f\"Min / mean / median / max score: {sc.min():.3f} / {sc.mean():.3f} / {np.median(sc):.3f} / {sc.max():.3f}\")\n",
    "\n",
    "    fig, ax = plt.subplots(figsize=(4, 3))\n",
    "    ax.hist(sc, bins=50)\n",
    "    ax.set_xlabel(\"Score\")\n",
    "    ax.set_ylabel(\"Count\")\n",
    "    ax.set_title(\"Match score distribution\")\n",
    "\n",
    "    ax.set_xlim(0, 1)\n",
    "    plt.show()\n",
    "\n",
    "    plot_images([read_image(images / name0), read_image(images / name1)], titles=[name0, name1])\n",
    "    plot_keypoints([kpts0, kpts1], ps=1)\n",
    "    plot_matches(kpts0[m[:, 0]], kpts1[m[:, 1]], a=0.3)\n",
    "    plt.show()"
   ]
  },
  {
   "cell_type": "code",
   "execution_count": null,
   "metadata": {},
   "outputs": [],
   "source": [
    "conf = match_features.confs[\"disk+lightglue\"]\n",
    "\n",
    "conf[\"model\"]['filter_threshold'] = 0.1\n",
    "\n",
    "match_features.main(\n",
    "    conf=conf,\n",
    "    pairs=pairs_path,\n",
    "    features=features,\n",
    "    matches=out / \"matches.h5\",\n",
    "    overwrite=True,\n",
    ")\n",
    "\n",
    "show_pair(name0, name1)"
   ]
  },
  {
   "cell_type": "code",
   "execution_count": null,
   "metadata": {},
   "outputs": [],
   "source": [
    "img_list = list(images.glob(\"*.jpg\"))\n",
    "\n",
    "N = 50\n",
    "\n",
    "ids0 = np.random.choice(len(img_list), N)\n",
    "ids1 = np.random.choice(len(img_list), N)\n",
    "\n",
    "pairs = list(zip(ids0, ids1))\n",
    "\n",
    "# filter if id0 == id1\n",
    "pairs = [p for p in pairs if p[0] != p[1]]\n",
    "\n",
    "pairs = [(img_list[p[0]].name, img_list[p[1]].name) for p in pairs]\n",
    "\n",
    "len(pairs)"
   ]
  },
  {
   "cell_type": "code",
   "execution_count": null,
   "metadata": {},
   "outputs": [],
   "source": [
    "with open(pairs_path, \"w\") as f:\n",
    "    for name0, name0 in pairs:\n",
    "        f.write(f\"{name0} {name1}\\n\")\n",
    "\n",
    "match_features.main(\n",
    "    conf=conf,\n",
    "    pairs=pairs_path,\n",
    "    features=features,\n",
    "    matches=out / \"matches.h5\",\n",
    "    overwrite=True,\n",
    ")"
   ]
  },
  {
   "cell_type": "code",
   "execution_count": null,
   "metadata": {},
   "outputs": [],
   "source": [
    "for p in list_h5_names(out / \"matches.h5\"):\n",
    "    name0, name1 = p.split(\"/\")\n",
    "    print(f\"Image {name0} and {name1}\")\n",
    "    show_pair(name0, name1)"
   ]
  },
  {
   "cell_type": "code",
   "execution_count": null,
   "metadata": {},
   "outputs": [],
   "source": []
  }
 ],
 "metadata": {
  "kernelspec": {
   "display_name": "megadepth",
   "language": "python",
   "name": "python3"
  },
  "language_info": {
   "codemirror_mode": {
    "name": "ipython",
    "version": 3
   },
   "file_extension": ".py",
   "mimetype": "text/x-python",
   "name": "python",
   "nbconvert_exporter": "python",
   "pygments_lexer": "ipython3",
   "version": "3.9.16"
  }
 },
 "nbformat": 4,
 "nbformat_minor": 2
}
