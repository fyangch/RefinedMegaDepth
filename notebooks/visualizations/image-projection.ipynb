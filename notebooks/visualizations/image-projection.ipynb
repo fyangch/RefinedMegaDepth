{
 "cells": [
  {
   "cell_type": "code",
   "execution_count": null,
   "metadata": {},
   "outputs": [],
   "source": [
    "%load_ext autoreload\n",
    "%autoreload 2"
   ]
  },
  {
   "cell_type": "code",
   "execution_count": null,
   "metadata": {},
   "outputs": [],
   "source": [
    "from pathlib import Path\n",
    "\n",
    "import numpy as np\n",
    "import pycolmap\n",
    "import matplotlib.pyplot as plt\n",
    "\n",
    "from hloc.visualization import plot_images\n",
    "from megadepth.utils.io import load_depth_map, load_image\n",
    "from megadepth.postprocessing.image_processing import filter_unstable_depths, erode_and_remove"
   ]
  },
  {
   "cell_type": "code",
   "execution_count": null,
   "metadata": {},
   "outputs": [],
   "source": [
    "data = Path(\"/Volumes/Extreme_SSD/MegaDepth/scenes/\")\n",
    "# data = Path(\"../../data/scenes/\")\n",
    "\n",
    "scene = \"5018\"\n",
    "\n",
    "model_name = \"disk_lg+sift+splg\"\n",
    "# model_name = \"superpoint_max-superglue-netvlad-50-KA+BA\"\n",
    "# model_name = \"baseline\"\n",
    "\n",
    "\n",
    "img_dir = data / scene / \"images\"\n",
    "undistorted_img_dir = data / scene / \"dense\" / model_name / \"images\"\n",
    "\n",
    "depth_dir = data / scene / \"dense\" / model_name / \"stereo\" / \"depth_maps\"\n",
    "\n",
    "model_path = data / scene / \"dense\" / model_name / \"sparse\"\n",
    "\n",
    "model = pycolmap.Reconstruction(model_path)\n",
    "print(model.summary())"
   ]
  },
  {
   "cell_type": "code",
   "execution_count": null,
   "metadata": {},
   "outputs": [],
   "source": [
    "image_names = [im.name for im in model.images.values()]\n",
    "\n",
    "N = 8\n",
    "\n",
    "plot_images([load_image(undistorted_img_dir / im) for im in image_names[:N]], titles=range(N))"
   ]
  },
  {
   "cell_type": "code",
   "execution_count": null,
   "metadata": {},
   "outputs": [],
   "source": [
    "id_1 = 0\n",
    "id_2 = 3\n",
    "\n",
    "img1_name = image_names[id_1]\n",
    "img2_name = image_names[id_2]"
   ]
  },
  {
   "cell_type": "code",
   "execution_count": null,
   "metadata": {},
   "outputs": [],
   "source": [
    "img1_name, img2_name"
   ]
  },
  {
   "cell_type": "code",
   "execution_count": null,
   "metadata": {},
   "outputs": [],
   "source": [
    "img1 = model.find_image_with_name(img1_name)\n",
    "img2 = model.find_image_with_name(img2_name)\n",
    "\n",
    "print(img1.image_id, img2.image_id)\n",
    "\n",
    "cam1 = model.cameras[img1.camera_id]\n",
    "cam2 = model.cameras[img2.camera_id]\n",
    "\n",
    "depth1 = load_depth_map(depth_dir / f\"{img1_name}.geometric.bin\")\n",
    "depth2 = load_depth_map(depth_dir / f\"{img2_name}.geometric.bin\")\n",
    "\n",
    "depth1[depth1 <= 0] = np.nan\n",
    "depth2[depth2 <= 0] = np.nan\n",
    "\n",
    "fig, ax = plt.subplots(2, 2, figsize=(15, 12))\n",
    "ax[0, 0].imshow(load_image(undistorted_img_dir / img1_name))\n",
    "ax[1, 0].imshow(load_image(undistorted_img_dir / img2_name))\n",
    "\n",
    "ax[0, 1].imshow(erode_and_remove(filter_unstable_depths(depth1)))\n",
    "ax[1, 1].imshow(erode_and_remove(filter_unstable_depths(depth2)))\n",
    "\n",
    "plt.show()"
   ]
  },
  {
   "cell_type": "markdown",
   "metadata": {},
   "source": [
    "# Project one image into another image"
   ]
  },
  {
   "cell_type": "code",
   "execution_count": null,
   "metadata": {},
   "outputs": [],
   "source": [
    "def get_grid_points(depth):\n",
    "    return np.column_stack(np.where(~np.isnan(depth)))"
   ]
  },
  {
   "cell_type": "code",
   "execution_count": null,
   "metadata": {},
   "outputs": [],
   "source": [
    "def img2world(img, cam, depth, colors):\n",
    "    p2d = get_grid_points(depth)\n",
    "    colors = colors[p2d[:, 0], p2d[:, 1]]\n",
    "    depth = depth[p2d[:, 0], p2d[:, 1]]\n",
    "\n",
    "    p3d = np.array(cam.image_to_world(p2d[:, ::-1]))\n",
    "    p3d = np.stack([p3d[:, 0], p3d[:, 1], np.ones_like(p3d[:, 0])]) * depth\n",
    "    p3d = np.array(img.transform_to_world(p3d.T))\n",
    "\n",
    "    return p3d, colors"
   ]
  },
  {
   "cell_type": "code",
   "execution_count": null,
   "metadata": {},
   "outputs": [],
   "source": [
    "def world2img(p3d, img, cam):\n",
    "\n",
    "    p2d = np.array(np.round(cam.world_to_image(img.project(p3d))), dtype=int)\n",
    "    depth = np.array(img.transform_to_image(p3d))[:, 2]\n",
    "\n",
    "    xmin, xmax = 0, cam.width\n",
    "    ymin, ymax = 0, cam.height\n",
    "    mask = (p2d[:, 0] >= xmin) & (p2d[:, 0] < xmax) & (p2d[:, 1] >= ymin) & (p2d[:, 1] < ymax)\n",
    "\n",
    "    return p2d, mask, depth"
   ]
  },
  {
   "cell_type": "code",
   "execution_count": null,
   "metadata": {},
   "outputs": [],
   "source": [
    "def img2world2img(img1, img2, cam1, cam2, depth1, colors1):\n",
    "    \"\"\"Projects image 1 to world space, then projects world space to image 2.\"\"\"\n",
    "    p3d, colors = img2world(img1, cam1, depth1, colors1)\n",
    "    p2d, mask, depth = world2img(p3d, img2, cam2)\n",
    "\n",
    "    p2d = p2d[mask]\n",
    "    colors = colors[mask]\n",
    "    depth = depth[mask]\n",
    "\n",
    "    return p2d, depth, colors"
   ]
  },
  {
   "cell_type": "code",
   "execution_count": null,
   "metadata": {},
   "outputs": [],
   "source": [
    "def overlay(img1, img2, alpha=0.25):\n",
    "    \"\"\"Overlay two images.\"\"\"\n",
    "    return ((1 - alpha) * img1 + alpha * img2).astype(np.uint8)\n",
    "\n",
    "\n",
    "def projection_img(proj, depth, colors, shape, filter=False):\n",
    "    img = np.zeros(shape)\n",
    "    d = np.zeros(shape)[:, :, 0]\n",
    "    # argsort depth\n",
    "    idx = np.argsort(depth)[::-1]\n",
    "\n",
    "    for i in idx:\n",
    "        img[proj[i, 1], proj[i, 0], :] = colors[i]\n",
    "        d[proj[i, 1], proj[i, 0]] = depth[i]\n",
    "\n",
    "    if filter:\n",
    "        clean_depth = filter_unstable_depths(d.astype(np.uint8), 9)\n",
    "\n",
    "        img[clean_depth == 0] = [0, 0, 0]\n",
    "\n",
    "    return img.astype(np.uint8)"
   ]
  },
  {
   "cell_type": "code",
   "execution_count": null,
   "metadata": {},
   "outputs": [],
   "source": [
    "colors1 = load_image(undistorted_img_dir / img1.name)\n",
    "colors2 = load_image(undistorted_img_dir / img2.name)\n",
    "\n",
    "proj, depth, col = img2world2img(\n",
    "    img1=img2,\n",
    "    img2=img1,\n",
    "    cam1=cam2,\n",
    "    cam2=cam1,\n",
    "    depth1=depth2,\n",
    "    colors1=colors2,\n",
    ")\n",
    "\n",
    "img_proj = projection_img(proj, depth, col, colors1.shape, filter=True)\n",
    "\n",
    "depth_proj = np.zeros_like(colors1)[:, :, 0]\n",
    "depth_proj[proj[:, 1], proj[:, 0]] = depth\n",
    "\n",
    "fig, ax = plt.subplots(1, 4, figsize=(15, 5))\n",
    "ax[0].imshow(colors2)\n",
    "ax[1].imshow(img_proj)\n",
    "ax[2].imshow(depth_proj / depth_proj.max())\n",
    "ax[3].imshow(colors1)\n",
    "\n",
    "plt.show()"
   ]
  },
  {
   "cell_type": "code",
   "execution_count": null,
   "metadata": {},
   "outputs": [],
   "source": [
    "fig, ax = plt.subplots(2, 2, figsize=(15, 12))\n",
    "colors1 = load_image(undistorted_img_dir / img1.name)\n",
    "colors2 = load_image(undistorted_img_dir / img2.name)\n",
    "\n",
    "proj1to2, depth1to2, col1to2 = img2world2img(\n",
    "    img1=img1,\n",
    "    img2=img2,\n",
    "    cam1=cam1,\n",
    "    cam2=cam2,\n",
    "    depth1=depth1,\n",
    "    colors1=colors1,\n",
    ")\n",
    "\n",
    "img_proj1 = projection_img(proj1to2, depth1to2, col1to2, colors2.shape)\n",
    "\n",
    "ax[0, 0].imshow(colors1)\n",
    "ax[0, 0].set_title(\"image1\")\n",
    "\n",
    "ax[1, 0].imshow(overlay(img_proj1, colors2))\n",
    "ax[1, 0].set_title(\"image1 -> world -> image2\")\n",
    "\n",
    "\n",
    "proj2to1, depth2to1, col2to1 = img2world2img(\n",
    "    img1=img2,\n",
    "    img2=img1,\n",
    "    cam1=cam2,\n",
    "    cam2=cam1,\n",
    "    depth1=depth2,\n",
    "    colors1=colors2,\n",
    ")\n",
    "\n",
    "img_proj2 = projection_img(proj2to1, depth2to1, col2to1, colors1.shape)\n",
    "\n",
    "ax[1, 1].imshow(colors2)\n",
    "ax[1, 1].set_title(\"image2\")\n",
    "ax[0, 1].imshow(overlay(img_proj2, colors1))\n",
    "ax[0, 1].set_title(\"image2 -> world -> image1\")\n",
    "\n",
    "plt.show()"
   ]
  },
  {
   "cell_type": "markdown",
   "metadata": {},
   "source": [
    "# Calc proj depth error"
   ]
  },
  {
   "cell_type": "code",
   "execution_count": null,
   "metadata": {},
   "outputs": [],
   "source": [
    "depth_proj = np.zeros_like(depth1)\n",
    "\n",
    "for (x, y), d in zip(proj2to1, depth2to1):\n",
    "    depth_proj[y, x] = d\n",
    "\n",
    "mask = depth_proj * depth1 > 0"
   ]
  },
  {
   "cell_type": "code",
   "execution_count": null,
   "metadata": {},
   "outputs": [],
   "source": [
    "def points_to_image(p2d, colors, shape):\n",
    "    img = np.zeros(shape)\n",
    "\n",
    "    for i in range(len(p2d)):\n",
    "        x, y = p2d[i]\n",
    "        img[y, x] = colors[i]\n",
    "\n",
    "    return img\n",
    "\n",
    "\n",
    "def calc_depth_error(depth, proj_depth):\n",
    "    mask = depth * proj_depth > 0\n",
    "    return np.abs((depth - proj_depth) * mask)"
   ]
  },
  {
   "cell_type": "code",
   "execution_count": null,
   "metadata": {},
   "outputs": [],
   "source": [
    "dp = points_to_image(proj2to1, depth2to1, depth1.shape)\n",
    "err = calc_depth_error(np.nan_to_num(depth1), dp)\n",
    "\n",
    "# dp[dp <= 0] = np.nan\n",
    "# err[err <= 0] = np.nan\n",
    "\n",
    "fig, ax = plt.subplots(1, 3, figsize=(15, 5))\n",
    "\n",
    "ax[0].imshow(depth1)\n",
    "ax[1].imshow(dp)\n",
    "ae = ax[2].imshow(err)\n",
    "\n",
    "plt.colorbar(ae)\n",
    "\n",
    "plt.show()"
   ]
  },
  {
   "cell_type": "code",
   "execution_count": null,
   "metadata": {},
   "outputs": [],
   "source": [
    "dp = points_to_image(proj1to2, depth1to2, depth2.shape)\n",
    "err = calc_depth_error(np.nan_to_num(depth2), dp)\n",
    "\n",
    "# dp[dp <= 0] = np.nan\n",
    "# err[err <= 0] = np.nan\n",
    "\n",
    "fig, ax = plt.subplots(1, 3, figsize=(15, 5))\n",
    "\n",
    "ax[0].imshow(depth2)\n",
    "ax[1].imshow(dp)\n",
    "ae = ax[2].imshow(err)\n",
    "\n",
    "plt.colorbar(ae)\n",
    "\n",
    "plt.show()"
   ]
  },
  {
   "cell_type": "code",
   "execution_count": null,
   "metadata": {},
   "outputs": [],
   "source": []
  },
  {
   "cell_type": "code",
   "execution_count": null,
   "metadata": {},
   "outputs": [],
   "source": []
  }
 ],
 "metadata": {
  "kernelspec": {
   "display_name": "megadepth",
   "language": "python",
   "name": "python3"
  },
  "language_info": {
   "codemirror_mode": {
    "name": "ipython",
    "version": 3
   },
   "file_extension": ".py",
   "mimetype": "text/x-python",
   "name": "python",
   "nbconvert_exporter": "python",
   "pygments_lexer": "ipython3",
   "version": "3.9.16"
  }
 },
 "nbformat": 4,
 "nbformat_minor": 2
}
