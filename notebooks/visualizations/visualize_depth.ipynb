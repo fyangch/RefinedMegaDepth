{
 "cells": [
  {
   "cell_type": "code",
   "execution_count": null,
   "metadata": {},
   "outputs": [],
   "source": [
    "import os\n",
    "\n",
    "import numpy as np\n",
    "import pycolmap\n",
    "import matplotlib.pyplot as plt\n",
    "from tqdm import tqdm\n",
    "\n",
    "from megadepth.utils.io import load_depth_map, load_image"
   ]
  },
  {
   "cell_type": "code",
   "execution_count": null,
   "metadata": {},
   "outputs": [],
   "source": [
    "base_dir = \"/Volumes/Extreme_SSD/MegaDepth/scenes/\"\n",
    "scene = \"0229\"\n",
    "\n",
    "os.listdir(os.path.join(base_dir, scene, \"sparse\"))"
   ]
  },
  {
   "cell_type": "code",
   "execution_count": null,
   "metadata": {},
   "outputs": [],
   "source": [
    "models = [\n",
    "    \"disk+sift+spsg\",\n",
    "    \"superpoint_max-superglue-netvlad-50-KA+BA\",\n",
    "    \"loftr-netvlad-50-KA+BA\",\n",
    "]"
   ]
  },
  {
   "cell_type": "code",
   "execution_count": null,
   "metadata": {},
   "outputs": [],
   "source": [
    "# base_dir = os.path.join(\"..\", \"data\", \"scenes\")\n",
    "\n",
    "# model_name = \"superpoint_max-superglue-netvlad-50-KA+BA\"\n",
    "model_name = models[-1]\n",
    "\n",
    "model = pycolmap.Reconstruction(os.path.join(base_dir, scene, \"sparse\", model_name))\n",
    "print(model.summary())"
   ]
  },
  {
   "cell_type": "code",
   "execution_count": null,
   "metadata": {},
   "outputs": [],
   "source": [
    "def plot_depth_maps(image_name, models):\n",
    "    fig, axes = plt.subplots(1, len(models) + 1, figsize=(5 * (len(models) + 1), 5))\n",
    "    image = load_image(os.path.join(base_dir, scene, \"images\", image_name))\n",
    "    axes[0].imshow(image)\n",
    "    axes[0].set_title(\"Image\")\n",
    "    for i, model in enumerate(models):\n",
    "\n",
    "        try:\n",
    "            depth = load_depth_map(\n",
    "                os.path.join(\n",
    "                    base_dir,\n",
    "                    scene,\n",
    "                    \"dense\",\n",
    "                    model,\n",
    "                    \"stereo/depth_maps\",\n",
    "                    f\"{image_name}.geometric.bin\",\n",
    "                )\n",
    "            )\n",
    "        except FileNotFoundError:\n",
    "            print(f\"Depth map for {model} not found\")\n",
    "            continue\n",
    "\n",
    "        depth = np.where(depth > 0, depth, np.nan)\n",
    "\n",
    "        d_min = np.nanmin(depth)\n",
    "        d_max = np.nanmax(depth)\n",
    "\n",
    "        # normalize depth\n",
    "        depth = (depth - d_min) / (d_max - d_min)\n",
    "\n",
    "        axes[i + 1].imshow(depth)\n",
    "        axes[i + 1].set_title(model)\n",
    "\n",
    "    plt.show()"
   ]
  },
  {
   "cell_type": "code",
   "execution_count": null,
   "metadata": {},
   "outputs": [],
   "source": [
    "img_names = [im.name for im in model.images.values()]\n",
    "for img in np.random.choice(img_names, 10):\n",
    "    plot_depth_maps(img, models)"
   ]
  },
  {
   "cell_type": "code",
   "execution_count": null,
   "metadata": {},
   "outputs": [],
   "source": [
    "completeness = {}\n",
    "for model in models:\n",
    "    completeness[model] = []\n",
    "    pbar = tqdm(img_names)\n",
    "    for img in pbar:\n",
    "        try:\n",
    "            depth = load_depth_map(\n",
    "                os.path.join(\n",
    "                    base_dir, scene, \"dense\", model, \"stereo/depth_maps\", f\"{img}.geometric.bin\"\n",
    "                )\n",
    "            )\n",
    "        except FileNotFoundError:\n",
    "            continue\n",
    "\n",
    "        comp = np.sum(depth > 0)\n",
    "        completeness[model].append(comp / depth.size)\n",
    "\n",
    "    pbar.close()\n",
    "\n",
    "\n",
    "for model in models:\n",
    "    print(f\"{model}: {np.mean(completeness[model]):.4f}\")"
   ]
  },
  {
   "cell_type": "code",
   "execution_count": null,
   "metadata": {},
   "outputs": [],
   "source": [
    "fig, ax = plt.subplots(1, len(models), figsize=(5 * len(models), 5))\n",
    "\n",
    "for i, model in enumerate(models):\n",
    "    ax[i].hist(completeness[model], bins=20)\n",
    "    ax[i].set_title(model)\n",
    "    ax[i].set_xlim(0, 1)\n",
    "\n",
    "# make all y-axes the same\n",
    "max_y = max(ax[i].get_ylim()[1] for i in range(len(models)))\n",
    "for i in range(0, len(models)):\n",
    "    ax[i].set_ylim(0, max_y)\n",
    "\n",
    "plt.show()"
   ]
  },
  {
   "cell_type": "code",
   "execution_count": null,
   "metadata": {},
   "outputs": [],
   "source": []
  },
  {
   "cell_type": "code",
   "execution_count": null,
   "metadata": {},
   "outputs": [],
   "source": []
  }
 ],
 "metadata": {
  "kernelspec": {
   "display_name": "megadepth",
   "language": "python",
   "name": "python3"
  },
  "language_info": {
   "codemirror_mode": {
    "name": "ipython",
    "version": 3
   },
   "file_extension": ".py",
   "mimetype": "text/x-python",
   "name": "python",
   "nbconvert_exporter": "python",
   "pygments_lexer": "ipython3",
   "version": "3.9.16"
  }
 },
 "nbformat": 4,
 "nbformat_minor": 2
}
