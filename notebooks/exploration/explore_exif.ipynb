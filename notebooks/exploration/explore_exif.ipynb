{
 "cells": [
  {
   "cell_type": "code",
   "execution_count": null,
   "metadata": {},
   "outputs": [],
   "source": [
    "import os\n",
    "\n",
    "import folium\n",
    "\n",
    "from exif import Image\n",
    "import numpy as np\n",
    "from tqdm import tqdm"
   ]
  },
  {
   "cell_type": "code",
   "execution_count": null,
   "metadata": {},
   "outputs": [],
   "source": [
    "scene = '0025'\n",
    "# img_dir = f'/Volumes/Extreme_SSD/MegaDepth/scenes/{scene}/images/'\n",
    "img_dir = f'../../data/scenes/{scene}/images/'\n",
    "# img_dir = f\"../../data/test-mapillary/images/\"\n",
    "\n",
    "img_list = os.listdir(img_dir)\n",
    "\n",
    "exif_list = []\n",
    "for img in tqdm(img_list):\n",
    "\n",
    "    try:\n",
    "        img_path = os.path.join(img_dir, img)\n",
    "        with open(img_path, 'rb') as src:\n",
    "            img = Image(src)\n",
    "\n",
    "        if img.has_exif and img.gps_longitude:\n",
    "            exif_list.append(img_path)\n",
    "    except:\n",
    "        pass\n",
    "\n",
    "len(exif_list)"
   ]
  },
  {
   "cell_type": "code",
   "execution_count": null,
   "metadata": {},
   "outputs": [],
   "source": [
    "def decimal_coords(coords, ref):\n",
    " decimal_degrees = coords[0] + coords[1] / 60 + coords[2] / 3600\n",
    " if ref == \"S\" or ref == \"W\":\n",
    "     decimal_degrees = -decimal_degrees\n",
    " return decimal_degrees\n",
    "\n",
    "def image_coordinates(image_path):\n",
    "    with open(image_path, 'rb') as src:\n",
    "        img = Image(src)\n",
    "    if img.has_exif:\n",
    "        try:\n",
    "            img.gps_longitude\n",
    "            coords = (decimal_coords(img.gps_latitude,\n",
    "                      img.gps_latitude_ref),\n",
    "                      decimal_coords(img.gps_longitude,\n",
    "                      img.gps_longitude_ref))\n",
    "        except AttributeError:\n",
    "            print('No Coordinates')\n",
    "            coords = None\n",
    "        except NotImplementedError:\n",
    "            print('No Coordinates')\n",
    "            coords = None\n",
    "    else:\n",
    "        print('The Image has no EXIF information')\n",
    "        return None\n",
    "\n",
    "    return coords"
   ]
  },
  {
   "cell_type": "code",
   "execution_count": null,
   "metadata": {},
   "outputs": [],
   "source": [
    "# plot location on map\n",
    "def plot_map(coords: list, paths: list):\n",
    "    map = folium.Map(location=coords[0], zoom_start=25)\n",
    "    for coord, path in zip(coords, paths):\n",
    "        folium.Marker(coord, popup=path).add_to(map)\n",
    "    return map\n",
    "\n",
    "coords = [image_coordinates(img_path) for img_path in exif_list]\n",
    "coords = [coord for coord in coords if coord is not None]\n",
    "exif_list = [img_path for img_path, coord in zip(exif_list, coords) if coord is not None]\n",
    "plot_map(coords, exif_list)"
   ]
  },
  {
   "cell_type": "markdown",
   "metadata": {},
   "source": [
    "# Show camera poses"
   ]
  },
  {
   "cell_type": "code",
   "execution_count": null,
   "metadata": {},
   "outputs": [],
   "source": [
    "import pyproj\n",
    "\n",
    "def gps_to_ecef_pyproj(coords):\n",
    "    transformer = pyproj.Transformer.from_crs(\n",
    "        {\"proj\":'latlong', \"ellps\":'WGS84', \"datum\":'WGS84'},\n",
    "        {\"proj\":'geocent', \"ellps\":'WGS84', \"datum\":'WGS84'},\n",
    "    )\n",
    "    x, y, z = transformer.transform(coords[0], coords[1], coords[2], radians=False)\n",
    "\n",
    "    return x, y, z\n",
    "\n",
    "def ecef_to_lla(coord):\n",
    "    transformer = pyproj.Transformer.from_crs(\n",
    "        {\"proj\":'geocent', \"ellps\":'WGS84', \"datum\":'WGS84'},\n",
    "        {\"proj\":'latlong', \"ellps\":'WGS84', \"datum\":'WGS84'},\n",
    "    )\n",
    "    lon, lat, alt = transformer.transform(coord[0], coord[1], coord[2], radians=False)\n",
    "    return lon, lat, alt\n",
    "\n",
    "# plot location on map\n",
    "def plot_map(poses: list, points: list, color='red'):\n",
    "    map = folium.Map(location=poses[0], zoom_start=30)\n",
    "    \n",
    "    for coord in poses:\n",
    "        folium.CircleMarker(coord, radius=1, color=color).add_to(map)\n",
    "\n",
    "    for coord in points:\n",
    "        folium.CircleMarker(coord, radius=0.1, color='blue').add_to(map)\n",
    "\n",
    "\n",
    "    return map\n"
   ]
  },
  {
   "cell_type": "code",
   "execution_count": null,
   "metadata": {},
   "outputs": [],
   "source": [
    "import pycolmap\n",
    "\n",
    "from megadepth.utils.projections import get_camera_poses\n",
    "\n",
    "scene = '0025'\n",
    "geo_model = pycolmap.Reconstruction(f\"../../data/scenes/{scene}/sparse/geo-model\")\n",
    "# geo_model = pycolmap.Reconstruction(f\"../../data/scenes/{scene}/sparse/geo-model\")\n",
    "# geo_model = pycolmap.Reconstruction(\"../../data/test-mapillary/sparse/geo-model\")\n",
    "\n",
    "poses = get_camera_poses(geo_model)\n",
    "poses = [ecef_to_lla(pose) for pose in tqdm(poses)]\n",
    "\n",
    "poses = [p[:2][::-1] for p in poses]\n",
    "\n",
    "p3d = geo_model.points3D\n",
    "p3d = [p3d[p].xyz for p in p3d if p3d[p].track.length() > 20]\n",
    "idx = np.random.choice(len(p3d), 5000)\n",
    "p3d = [p3d[i] for i in idx]\n",
    "p3d = [ecef_to_lla(p)[:2][::-1] for p in tqdm(p3d)]\n",
    "\n",
    "plot_map(poses, p3d)"
   ]
  },
  {
   "cell_type": "code",
   "execution_count": null,
   "metadata": {},
   "outputs": [],
   "source": []
  }
 ],
 "metadata": {
  "kernelspec": {
   "display_name": "megadepth",
   "language": "python",
   "name": "python3"
  },
  "language_info": {
   "codemirror_mode": {
    "name": "ipython",
    "version": 3
   },
   "file_extension": ".py",
   "mimetype": "text/x-python",
   "name": "python",
   "nbconvert_exporter": "python",
   "pygments_lexer": "ipython3",
   "version": "3.9.16"
  }
 },
 "nbformat": 4,
 "nbformat_minor": 2
}
