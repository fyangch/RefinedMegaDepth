{
 "cells": [
  {
   "cell_type": "code",
   "execution_count": null,
   "metadata": {},
   "outputs": [],
   "source": [
    "import os\n",
    "import pandas as pd\n",
    "import numpy as np\n",
    "import matplotlib.pyplot as plt\n",
    "from matplotlib.image import imread\n",
    "\n",
    "import pycolmap\n",
    "\n",
    "from megadepth.metrics.metadata import collect_metrics"
   ]
  },
  {
   "cell_type": "code",
   "execution_count": null,
   "metadata": {},
   "outputs": [],
   "source": [
    "from pathlib import Path\n",
    "import h5py\n",
    "import numpy as np\n",
    "import torch\n",
    "import collections.abc as collections\n",
    "from hloc.utils.io import list_h5_names\n",
    "from hloc.utils.read_write_model import read_images_binary\n",
    "from hloc.utils.read_write_model import read_images_binary\n",
    "from hloc.utils.io import list_h5_names\n",
    "from hloc.utils.parsers import parse_image_lists\n",
    "\n",
    "db_descriptors = None\n",
    "descriptors = Path(\"../data/0229/features/netvlad.h5\")\n",
    "num_matched = 100\n",
    "output = Path(\"../data/retrieval.txt\")\n",
    "query_prefix = None\n",
    "query_list = None\n",
    "db_prefix = None\n",
    "db_list = None\n",
    "db_model = None\n",
    "db_descriptors = None\n",
    "\n",
    "\n",
    "base = \"../data\"\n",
    "scene = \"0229\"\n",
    "image_dir = os.path.join(base, scene, \"images\")"
   ]
  },
  {
   "cell_type": "code",
   "execution_count": null,
   "metadata": {},
   "outputs": [],
   "source": [
    "def parse_names(prefix, names, names_all):\n",
    "    if prefix is not None:\n",
    "        if not isinstance(prefix, str):\n",
    "            prefix = tuple(prefix)\n",
    "        names = [n for n in names_all if n.startswith(prefix)]\n",
    "        if len(names) == 0:\n",
    "            raise ValueError(f\"Could not find any image with the prefix `{prefix}`.\")\n",
    "    elif names is not None:\n",
    "        if isinstance(names, (str, Path)):\n",
    "            names = parse_image_lists(names)\n",
    "        elif isinstance(names, collections.Iterable):\n",
    "            names = list(names)\n",
    "        else:\n",
    "            raise ValueError(\n",
    "                f\"Unknown type of image list: {names}.\"\n",
    "                \"Provide either a list or a path to a list file.\"\n",
    "            )\n",
    "    else:\n",
    "        names = names_all\n",
    "    return names"
   ]
  },
  {
   "cell_type": "code",
   "execution_count": null,
   "metadata": {},
   "outputs": [],
   "source": [
    "def get_descriptors(names, path, name2idx=None, key=\"global_descriptor\"):\n",
    "    if name2idx is None:\n",
    "        with h5py.File(str(path), \"r\", libver=\"latest\") as fd:\n",
    "            desc = [fd[n][key].__array__() for n in names]\n",
    "    else:\n",
    "        desc = []\n",
    "        for n in names:\n",
    "            with h5py.File(str(path[name2idx[n]]), \"r\", libver=\"latest\") as fd:\n",
    "                desc.append(fd[n][key].__array__())\n",
    "    return torch.from_numpy(np.stack(desc, 0)).float()"
   ]
  },
  {
   "cell_type": "code",
   "execution_count": null,
   "metadata": {},
   "outputs": [],
   "source": [
    "if db_descriptors is None:\n",
    "    db_descriptors = descriptors\n",
    "if isinstance(db_descriptors, (Path, str)):\n",
    "    db_descriptors = [db_descriptors]\n",
    "name2db = {n: i for i, p in enumerate(db_descriptors) for n in list_h5_names(p)}\n",
    "db_names_h5 = list(name2db.keys())\n",
    "query_names_h5 = list_h5_names(descriptors)\n",
    "\n",
    "if db_model:\n",
    "    images = read_images_binary(db_model / \"images.bin\")\n",
    "    db_names = [i.name for i in images.values()]\n",
    "else:\n",
    "    db_names = parse_names(db_prefix, db_list, db_names_h5)\n",
    "if len(db_names) == 0:\n",
    "    raise ValueError(\"Could not find any database image.\")\n",
    "query_names = parse_names(query_prefix, query_list, query_names_h5)\n",
    "\n",
    "device = \"cuda\" if torch.cuda.is_available() else \"cpu\"\n",
    "db_desc = get_descriptors(db_names, db_descriptors, name2db)\n",
    "query_desc = get_descriptors(query_names, descriptors)\n",
    "sim = torch.einsum(\"id,jd->ij\", query_desc.to(device), db_desc.to(device))\n",
    "\n",
    "# Avoid self-matching\n",
    "self = np.array(query_names)[:, None] == np.array(db_names)[None]"
   ]
  },
  {
   "cell_type": "code",
   "execution_count": null,
   "metadata": {},
   "outputs": [],
   "source": [
    "sim"
   ]
  },
  {
   "cell_type": "code",
   "execution_count": null,
   "metadata": {},
   "outputs": [],
   "source": [
    "# create a histogram of the scores for each row\n",
    "# then run clustering on the histograms\n",
    "\n",
    "import numpy as np\n",
    "import matplotlib.pyplot as plt\n",
    "from sklearn.cluster import KMeans\n",
    "\n",
    "# create a histogram of the scores for each row\n",
    "descriptors = sim.numpy()\n",
    "histograms = np.zeros((descriptors.shape[0], 50))\n",
    "for i in range(descriptors.shape[0]):\n",
    "    histograms[i] = np.histogram(descriptors[i], bins=50, range=(0, 1))[0]"
   ]
  },
  {
   "cell_type": "code",
   "execution_count": null,
   "metadata": {},
   "outputs": [],
   "source": [
    "# run clustering on the histograms\n",
    "kmeans = KMeans(n_clusters=2, random_state=0).fit(histograms)\n",
    "\n",
    "df = pd.DataFrame()\n",
    "df[\"image\"] = query_names\n",
    "df[\"cluster\"] = kmeans.labels_\n",
    "df[\"score\"] = mean_per_img\n",
    "df[\"registered\"] = df[\"image\"].apply(lambda x: x in r_img_names)"
   ]
  },
  {
   "cell_type": "code",
   "execution_count": null,
   "metadata": {},
   "outputs": [],
   "source": [
    "df = df.sort_values(by=[\"cluster\", \"score\"], ascending=[True, True])\n",
    "\n",
    "df"
   ]
  },
  {
   "cell_type": "code",
   "execution_count": null,
   "metadata": {},
   "outputs": [],
   "source": [
    "fig, ax = plt.subplots(figsize=(10, 10))\n",
    "ax.bar(df.image, df.score, color=df.registered.map({True: \"green\", False: \"red\"}))\n",
    "\n",
    "ax.set_xticks([])\n",
    "plt.show()"
   ]
  },
  {
   "cell_type": "code",
   "execution_count": null,
   "metadata": {},
   "outputs": [],
   "source": [
    "target = df[\"registered\"]\n",
    "pred = df[\"cluster\"]\n",
    "\n",
    "from sklearn.metrics import classification_report\n",
    "\n",
    "print(classification_report(target, pred, target_names=[\"unregistered\", \"registered\"]))"
   ]
  },
  {
   "cell_type": "code",
   "execution_count": null,
   "metadata": {},
   "outputs": [],
   "source": [
    "mean_per_img = torch.sum(sim > 0.2, dim=1) / sim.shape[1]"
   ]
  },
  {
   "cell_type": "code",
   "execution_count": null,
   "metadata": {},
   "outputs": [],
   "source": [
    "mean_per_img = sim.mean(dim=1)\n",
    "mean_per_img.shape"
   ]
  },
  {
   "cell_type": "code",
   "execution_count": null,
   "metadata": {},
   "outputs": [],
   "source": [
    "img_names = [\n",
    "    img\n",
    "    for img in os.listdir(os.path.join(base, scene, \"images\"))\n",
    "    if img.endswith(\".jpg\") or img.endswith(\".JPG\") or img.endswith(\".png\")\n",
    "]"
   ]
  },
  {
   "cell_type": "code",
   "execution_count": null,
   "metadata": {},
   "outputs": [],
   "source": [
    "df = pd.DataFrame({\"query\": query_names, \"mean_per_img\": mean_per_img, \"registered\": False})\n",
    "df.set_index(\"query\", inplace=True)\n",
    "df.registered = df.index.isin(r_img_names)\n",
    "df = df.sort_values(by=[\"registered\", \"mean_per_img\"], ascending=[True, True])\n",
    "df"
   ]
  },
  {
   "cell_type": "code",
   "execution_count": null,
   "metadata": {},
   "outputs": [],
   "source": [
    "fig, ax = plt.subplots(figsize=(10, 10))\n",
    "ax.bar(df.index, df.mean_per_img, color=df.registered.map({True: \"green\", False: \"red\"}))\n",
    "\n",
    "ax.set_xticks([])\n",
    "plt.show()"
   ]
  },
  {
   "cell_type": "code",
   "execution_count": null,
   "metadata": {},
   "outputs": [],
   "source": [
    "df[~df.registered][:10]"
   ]
  },
  {
   "cell_type": "code",
   "execution_count": null,
   "metadata": {},
   "outputs": [],
   "source": [
    "# plot top 25 unreigstered images\n",
    "\n",
    "cdf = df[~df.registered][:25]\n",
    "\n",
    "fig, ax = plt.subplots(5, 5, figsize=(10, 10))\n",
    "for i, (name, row) in enumerate(cdf.iterrows()):\n",
    "    ax[i // 5, i % 5].imshow(imread(os.path.join(image_dir, name)))\n",
    "    ax[i // 5, i % 5].set_title(f\"{100*row.mean_per_img:.1f} %\")\n",
    "    ax[i // 5, i % 5].set_xticks([])\n",
    "    ax[i // 5, i % 5].set_yticks([])\n",
    "\n",
    "plt.show()"
   ]
  },
  {
   "cell_type": "code",
   "execution_count": null,
   "metadata": {},
   "outputs": [],
   "source": [
    "cdf = df[~df.registered][-25:]\n",
    "\n",
    "fig, ax = plt.subplots(5, 5, figsize=(10, 10))\n",
    "for i, (name, row) in enumerate(cdf.iterrows()):\n",
    "    ax[i // 5, i % 5].imshow(imread(os.path.join(image_dir, name)))\n",
    "    ax[i // 5, i % 5].set_title(f\"{100*row.mean_per_img:.1f} %\")\n",
    "    ax[i // 5, i % 5].set_xticks([])\n",
    "    ax[i // 5, i % 5].set_yticks([])\n",
    "\n",
    "plt.show()"
   ]
  },
  {
   "cell_type": "code",
   "execution_count": null,
   "metadata": {},
   "outputs": [],
   "source": [
    "cdf = df[df.registered][-25:]\n",
    "\n",
    "fig, ax = plt.subplots(5, 5, figsize=(10, 10))\n",
    "for i, (name, row) in enumerate(cdf.iterrows()):\n",
    "    ax[i // 5, i % 5].imshow(imread(os.path.join(image_dir, name)))\n",
    "    ax[i // 5, i % 5].set_title(f\"{100*row.mean_per_img:.1f} %\")\n",
    "    ax[i // 5, i % 5].set_xticks([])\n",
    "    ax[i // 5, i % 5].set_yticks([])\n",
    "\n",
    "plt.show()"
   ]
  },
  {
   "cell_type": "code",
   "execution_count": null,
   "metadata": {},
   "outputs": [],
   "source": [
    "cdf = df[df.registered][:25]\n",
    "\n",
    "fig, ax = plt.subplots(5, 5, figsize=(10, 10))\n",
    "for i, (name, row) in enumerate(cdf.iterrows()):\n",
    "    ax[i // 5, i % 5].imshow(imread(os.path.join(image_dir, name)))\n",
    "    ax[i // 5, i % 5].set_title(f\"{100*row.mean_per_img:.1f} %\")\n",
    "    ax[i // 5, i % 5].set_xticks([])\n",
    "    ax[i // 5, i % 5].set_yticks([])\n",
    "\n",
    "plt.show()"
   ]
  },
  {
   "cell_type": "code",
   "execution_count": null,
   "metadata": {},
   "outputs": [],
   "source": [
    "def plot_images(images: list, titles: list, dimension: tuple) -> None:\n",
    "    fig = plt.figure(figsize=(30, 30))\n",
    "\n",
    "    for i in range(dimension[0]):\n",
    "        for j in range(dimension[1]):\n",
    "            idx = 1 + j + (i * dimension[1])\n",
    "            fig.add_subplot(dimension[0], dimension[1], idx)\n",
    "            plt.axis(\"off\")\n",
    "            plt.imshow(images[idx - 1])\n",
    "            plt.title(titles[idx - 1])\n",
    "\n",
    "    plt.show()"
   ]
  },
  {
   "cell_type": "code",
   "execution_count": null,
   "metadata": {},
   "outputs": [],
   "source": [
    "base = \"../data\"\n",
    "scene = \"0229\"\n",
    "retrieval_model = \"cosplace-50\"\n",
    "full_model = \"superpoint_max-superglue-netvlad-50\"\n",
    "# full_model += (\"-\" if not retrieval_model==\"\" else \"\") + retrieval_model\n",
    "# full_model = \"superpoint_max-superglue\"\n",
    "image_dir = os.path.join(base, scene, \"images\")"
   ]
  },
  {
   "cell_type": "code",
   "execution_count": null,
   "metadata": {},
   "outputs": [],
   "source": [
    "img_names = [\n",
    "    img\n",
    "    for img in os.listdir(os.path.join(base, scene, \"images\"))\n",
    "    if img.endswith(\".jpg\") or img.endswith(\".JPG\") or img.endswith(\".png\")\n",
    "]"
   ]
  },
  {
   "cell_type": "code",
   "execution_count": null,
   "metadata": {},
   "outputs": [],
   "source": [
    "reconstruction = pycolmap.Reconstruction(os.path.join(base, scene, \"sparse\", full_model))\n",
    "images = reconstruction.images\n",
    "cameras = reconstruction.cameras"
   ]
  },
  {
   "cell_type": "code",
   "execution_count": null,
   "metadata": {},
   "outputs": [],
   "source": [
    "r_img_names = []\n",
    "for key in images.values():\n",
    "    r_img_names.append(key.name)"
   ]
  },
  {
   "cell_type": "code",
   "execution_count": null,
   "metadata": {},
   "outputs": [],
   "source": [
    "retrievals = pd.read_table(\n",
    "    os.path.join(base, scene, \"matches\", \"retrieval\", retrieval_model + \".txt\"),\n",
    "    sep=\" \",\n",
    "    names=[\"from\", \"to\"],\n",
    ")"
   ]
  },
  {
   "cell_type": "code",
   "execution_count": null,
   "metadata": {},
   "outputs": [],
   "source": [
    "retrievals"
   ]
  },
  {
   "cell_type": "code",
   "execution_count": null,
   "metadata": {},
   "outputs": [],
   "source": [
    "df = retrievals.groupby(\"from\").count().sort_values(by=\"to\", ascending=False)\n",
    "df[\"registered\"] = df.index.isin(r_img_names)\n",
    "df = df.sort_values(by=[\"registered\", \"to\"], ascending=[True, True])\n",
    "df"
   ]
  },
  {
   "cell_type": "code",
   "execution_count": null,
   "metadata": {},
   "outputs": [],
   "source": [
    "fig, ax = plt.subplots(figsize=(20, 10))\n",
    "ax.bar(df.index, df[\"to\"], color=df[\"registered\"].map({True: \"green\", False: \"red\"}))\n",
    "\n",
    "ax.set_xticks([])\n",
    "\n",
    "ax.set_ylabel(\"Number of retrievals\")\n",
    "\n",
    "plt.show()"
   ]
  },
  {
   "cell_type": "code",
   "execution_count": null,
   "metadata": {},
   "outputs": [],
   "source": [
    "res = pd.crosstab(retrievals[\"from\"], retrievals[\"to\"])\n",
    "res = res.reindex(index=img_names, columns=img_names, fill_value=0)"
   ]
  },
  {
   "cell_type": "code",
   "execution_count": null,
   "metadata": {},
   "outputs": [],
   "source": [
    "retrieval_scores = res.sum(axis=0) / len(img_names)"
   ]
  },
  {
   "cell_type": "code",
   "execution_count": null,
   "metadata": {},
   "outputs": [],
   "source": [
    "diff = np.setdiff1d(img_names, r_img_names)\n",
    "diff_mask = retrieval_scores.index.isin(diff)"
   ]
  },
  {
   "cell_type": "code",
   "execution_count": null,
   "metadata": {},
   "outputs": [],
   "source": [
    "retrieval_scores"
   ]
  },
  {
   "cell_type": "code",
   "execution_count": null,
   "metadata": {},
   "outputs": [],
   "source": [
    "retrieval_scores[diff_mask].mean()"
   ]
  },
  {
   "cell_type": "code",
   "execution_count": null,
   "metadata": {},
   "outputs": [],
   "source": [
    "retrieval_scores = retrieval_scores.sort_values()\n",
    "diff_mask = retrieval_scores.index.isin(diff)"
   ]
  },
  {
   "cell_type": "code",
   "execution_count": null,
   "metadata": {},
   "outputs": [],
   "source": [
    "retrieval_scores = pd.concat([retrieval_scores[~diff_mask], retrieval_scores[diff_mask]])\n",
    "diff_mask = retrieval_scores.index.isin(diff)"
   ]
  },
  {
   "cell_type": "code",
   "execution_count": null,
   "metadata": {},
   "outputs": [],
   "source": [
    "fig = plt.figure(figsize=(15, 8))\n",
    "ax = plt.gca()\n",
    "ax.axes.xaxis.set_ticks([])\n",
    "plt.bar(\n",
    "    retrieval_scores.index,\n",
    "    retrieval_scores.values,\n",
    "    color=[\"orange\" if idx == True else \"blue\" for idx in diff_mask],\n",
    ")\n",
    "plt.show()"
   ]
  },
  {
   "cell_type": "code",
   "execution_count": null,
   "metadata": {},
   "outputs": [],
   "source": [
    "colors = []\n",
    "labels = []\n",
    "for index, value in retrieval_scores[diff_mask].nlargest(10).items():\n",
    "    colors.append(imread(os.path.join(image_dir, index)))\n",
    "    labels.append(value)\n",
    "\n",
    "plot_images(colors, labels, (5, 2))"
   ]
  },
  {
   "cell_type": "code",
   "execution_count": null,
   "metadata": {},
   "outputs": [],
   "source": [
    "query_img = retrieval_scores[diff_mask].idxmax()\n",
    "all = pd.concat([retrievals[retrievals[\"to\"] == query_img]])\n",
    "all"
   ]
  },
  {
   "attachments": {},
   "cell_type": "markdown",
   "metadata": {},
   "source": [
    "Unregistered image with largest number of retrieval associations"
   ]
  },
  {
   "cell_type": "code",
   "execution_count": null,
   "metadata": {},
   "outputs": [],
   "source": [
    "colors = []\n",
    "labels = []\n",
    "for image in all.iloc[:10, 0]:\n",
    "    colors.append(imread(os.path.join(image_dir, image)))\n",
    "\n",
    "labels = np.arange(len(colors))\n",
    "\n",
    "plot_images(colors, labels, (5, 2))"
   ]
  },
  {
   "cell_type": "code",
   "execution_count": null,
   "metadata": {},
   "outputs": [],
   "source": []
  }
 ],
 "metadata": {
  "kernelspec": {
   "display_name": "rmd",
   "language": "python",
   "name": "python3"
  },
  "language_info": {
   "codemirror_mode": {
    "name": "ipython",
    "version": 3
   },
   "file_extension": ".py",
   "mimetype": "text/x-python",
   "name": "python",
   "nbconvert_exporter": "python",
   "pygments_lexer": "ipython3",
   "version": "3.9.16"
  }
 },
 "nbformat": 4,
 "nbformat_minor": 2
}
