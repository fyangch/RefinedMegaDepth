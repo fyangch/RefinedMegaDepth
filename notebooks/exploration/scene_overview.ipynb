{
 "cells": [
  {
   "cell_type": "code",
   "execution_count": null,
   "metadata": {},
   "outputs": [],
   "source": [
    "import os\n",
    "import json\n",
    "\n",
    "import numpy as np\n",
    "import matplotlib.pyplot as plt\n",
    "\n",
    "from megadepth.utils.io import load_image"
   ]
  },
  {
   "cell_type": "code",
   "execution_count": null,
   "metadata": {},
   "outputs": [],
   "source": [
    "base_dir = \"/Volumes/Extreme_SSD/MegaDepth/scenes/\"\n",
    "\n",
    "scenes = os.listdir(base_dir)\n",
    "scenes = [s for s in scenes if s != \".DS_Store\" and os.path.isdir(os.path.join(base_dir, s))]\n",
    "scenes = sorted(scenes)\n",
    "\n",
    "print(f\"Found {len(scenes)} scenes\")"
   ]
  },
  {
   "cell_type": "code",
   "execution_count": null,
   "metadata": {},
   "outputs": [],
   "source": [
    "info_json = \"../data/scene_infos.json\"\n",
    "infos = json.load(open(info_json, \"r\"))"
   ]
  },
  {
   "cell_type": "code",
   "execution_count": null,
   "metadata": {},
   "outputs": [],
   "source": [
    "def plot_images(scene):\n",
    "    images = os.listdir(os.path.join(base_dir, scene, \"images\"))\n",
    "    images = [i for i in images if i != \".DS_Store\"]\n",
    "    images = sorted(images)\n",
    "\n",
    "    # get 25 random images\n",
    "    images = np.random.choice(images, 25)\n",
    "\n",
    "    fig, axes = plt.subplots(5, 5, figsize=(20, 20))\n",
    "    for i, ax in enumerate(axes.flatten()):\n",
    "        image = load_image(os.path.join(base_dir, scene, \"images\", images[i]))\n",
    "        ax.imshow(image)\n",
    "        ax.set_title(images[i])\n",
    "        ax.axis(\"off\")\n",
    "\n",
    "    plt.tight_layout()\n",
    "    plt.show()"
   ]
  },
  {
   "cell_type": "code",
   "execution_count": null,
   "metadata": {},
   "outputs": [],
   "source": [
    "for scene in scenes:\n",
    "    print(f\"{scene} - {infos[scene]['name']} ({infos[scene]['n_images']})\")\n",
    "    plot_images(scene)\n",
    "    print()\n",
    "    print()"
   ]
  },
  {
   "cell_type": "code",
   "execution_count": null,
   "metadata": {},
   "outputs": [],
   "source": []
  }
 ],
 "metadata": {
  "kernelspec": {
   "display_name": "megadepth",
   "language": "python",
   "name": "python3"
  },
  "language_info": {
   "codemirror_mode": {
    "name": "ipython",
    "version": 3
   },
   "file_extension": ".py",
   "mimetype": "text/x-python",
   "name": "python",
   "nbconvert_exporter": "python",
   "pygments_lexer": "ipython3",
   "version": "3.9.16"
  }
 },
 "nbformat": 4,
 "nbformat_minor": 2
}
