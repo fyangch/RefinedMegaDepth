{
 "cells": [
  {
   "cell_type": "code",
   "execution_count": null,
   "metadata": {},
   "outputs": [],
   "source": [
    "import os\n",
    "from typing import Dict, Any, Union\n",
    "from pathlib import Path\n",
    "from io import BytesIO\n",
    "from exif import Image as ExifImage\n",
    "\n",
    "import requests\n",
    "import json\n",
    "\n",
    "import folium\n",
    "\n",
    "from tqdm import tqdm\n",
    "import numpy as np\n",
    "from PIL import Image"
   ]
  },
  {
   "cell_type": "code",
   "execution_count": null,
   "metadata": {},
   "outputs": [],
   "source": [
    "secrets = {\n",
    "    \"access_token\": \"MLY|6148807671914225|994d45073bcccc0eca929741524e65f6\"\n",
    "}"
   ]
  },
  {
   "cell_type": "markdown",
   "metadata": {},
   "source": [
    "# Get locations from exif"
   ]
  },
  {
   "cell_type": "code",
   "execution_count": null,
   "metadata": {},
   "outputs": [],
   "source": [
    "def decimal_coords(coords, ref):\n",
    " decimal_degrees = coords[0] + coords[1] / 60 + coords[2] / 3600\n",
    " if ref in [\"S\", \"W\"]:\n",
    "  decimal_degrees = -decimal_degrees\n",
    "\n",
    " return decimal_degrees\n",
    "\n",
    "def image_coordinates(image_path):\n",
    "    try:\n",
    "        with open(image_path, 'rb') as src:\n",
    "            img = ExifImage(src)\n",
    "\n",
    "        if not img.has_exif:\n",
    "            return None\n",
    "\n",
    "        img.gps_longitude\n",
    "        coords = (\n",
    "            decimal_coords(img.gps_latitude, img.gps_latitude_ref),\n",
    "            decimal_coords(img.gps_longitude, img.gps_longitude_ref)\n",
    "        )\n",
    "    except:\n",
    "        coords = None\n",
    "\n",
    "    return coords"
   ]
  },
  {
   "cell_type": "code",
   "execution_count": null,
   "metadata": {},
   "outputs": [],
   "source": [
    "scene = '0025'\n",
    "# img_dir = f'/Volumes/Extreme_SSD/MegaDepth/scenes/{scene}/images/'\n",
    "img_dir = f'../../data/scenes/{scene}/images/'\n",
    "\n",
    "img_list = os.listdir(img_dir)\n",
    "img_list = [os.path.join(img_dir, img) for img in img_list]\n",
    "\n",
    "# get the coordinates of the images\n",
    "coords = [image_coordinates(img_path) for img_path in img_list]\n",
    "coords = [coord for coord in coords if coord is not None]\n",
    "coords = np.array(coords)\n",
    "\n",
    "\n",
    "center = np.median(coords, axis=0)\n",
    "std = np.std(coords, axis=0)\n",
    "\n",
    "print(f\"Number of coordinates: {len(coords)}\")\n",
    "print(f\"Center: {center}\")\n",
    "print(f\"Std:    {std}\")"
   ]
  },
  {
   "cell_type": "code",
   "execution_count": null,
   "metadata": {},
   "outputs": [],
   "source": [
    "# get bbox such that 90% of the area is covered\n",
    "def dist(p1, p2):\n",
    "    return ((p1[0]-p2[0])**2 + (p1[1]-p2[1])**2)**0.5\n",
    "\n",
    "# sort points by distance\n",
    "def sort_points(center, points):\n",
    "    return sorted(points, key=lambda p: dist(p, center))\n",
    "\n",
    "def get_bbox(points, ratio=0.8):\n",
    "    points = np.array(points)\n",
    "    points = points[:int(ratio*len(points))]\n",
    "    x1, y1 = points.min(axis=0)\n",
    "    x2, y2 = points.max(axis=0)\n",
    "    return x1, y1, x2, y2"
   ]
  },
  {
   "cell_type": "code",
   "execution_count": null,
   "metadata": {},
   "outputs": [],
   "source": [
    "xmin, ymin, xmax, ymax = get_bbox(sort_points(center, coords), 0.5)"
   ]
  },
  {
   "cell_type": "code",
   "execution_count": null,
   "metadata": {},
   "outputs": [],
   "source": [
    "bbox = [\n",
    "    [xmin, ymin],\n",
    "    [xmax, ymin],\n",
    "    [xmax, ymax],\n",
    "    [xmin, ymax],\n",
    "    [xmin, ymin]\n",
    "]\n",
    "\n",
    "map = folium.Map(location=center, zoom_start=20)\n",
    "\n",
    "folium.PolyLine(bbox, color=\"red\", weight=5).add_to(map)\n",
    "\n",
    "\n",
    "for coord in coords:\n",
    "    folium.CircleMarker(\n",
    "        location=coord,\n",
    "        radius=1,\n",
    "        color='blue',\n",
    "        fill=True,\n",
    "        fill_color='blue'\n",
    "    ).add_to(map)\n",
    "\n",
    "folium.CircleMarker(\n",
    "    location=center,\n",
    "    radius=10,\n",
    "    color='red',\n",
    "    fill=True,\n",
    "    fill_color='red'\n",
    ").add_to(map)\n",
    "\n",
    "\n",
    "map"
   ]
  },
  {
   "cell_type": "markdown",
   "metadata": {},
   "source": [
    "# Get close images from Mapillary"
   ]
  },
  {
   "cell_type": "code",
   "execution_count": null,
   "metadata": {},
   "outputs": [],
   "source": [
    "import requests\n",
    "import json\n",
    "from vt2geojson.tools import vt_bytes_to_geojson\n",
    "\n",
    "import math\n",
    "def deg2num(lat_deg, lon_deg, zoom):\n",
    "  lat_rad = math.radians(lat_deg)\n",
    "  n = 2.0 ** zoom\n",
    "  xtile = int((lon_deg + 180.0) / 360.0 * n)\n",
    "  ytile = int((1.0 - math.asinh(math.tan(lat_rad)) / math.pi) / 2.0 * n)\n",
    "  return (xtile, ytile)\n",
    "\n",
    "MAP_ACCESS_TOKEN = secrets[\"access_token\"]\n",
    "\n",
    "#set zoom levels and corner coordinates\n",
    "z = 14\n",
    "ll_lat = xmin \n",
    "ur_lat = xmax\n",
    "ll_lon = ymin\n",
    "ur_lon = ymax\n",
    "llx, lly = deg2num(ll_lat, ll_lon, z)\n",
    "urx, ury = deg2num(ur_lat, ur_lon, z)\n",
    "\n",
    "print(llx, lly, urx, ury)\n",
    "\n",
    "#uncomment the one layer you wish to use\n",
    "# type=\"mly1_computed_public\"\n",
    "# type=\"mly_map_feature_point\"\n",
    "# type=\"mly_map_feature_traffic_sign\"\n",
    "# type=\"mly1_computed_public\"\n",
    "# type=\"mly1_public\"\n",
    "\n",
    "types = [\"mly1_computed_public\",\"mly_map_feature_point\",\"mly_map_feature_traffic_sign\",\"mly1_computed_public\",\"mly1_public\"]\n",
    "\n",
    "for type in types:\n",
    "    output = {\"type\":\"FeatureCollection\",\"features\":[]}\n",
    "    for x in range(min(llx,urx),max(llx,urx)+1,1):\n",
    "        for y in range(min(lly,ury),max(lly,ury)+1,1):\n",
    "            print (type,x,y)\n",
    "            url = f\"https://tiles.mapillary.com/maps/vtp/{type}/2/{z}/{x}/{y}?access_token={MAP_ACCESS_TOKEN}\"\n",
    "            r = requests.get(url)\n",
    "            if r.status_code != 200:\n",
    "                print(\"error\", r.status_code, url)\n",
    "                continue\n",
    "            vt_content = r.content\n",
    "            features = vt_bytes_to_geojson(vt_content, x, y, z)\n",
    "            for f in features[\"features\"]:\n",
    "                output['features'].append(f)"
   ]
  },
  {
   "cell_type": "code",
   "execution_count": null,
   "metadata": {},
   "outputs": [],
   "source": [
    "output = [out for out in output[\"features\"] if out[\"geometry\"][\"type\"] == \"Point\"]\n",
    "\n",
    "coords = [out[\"geometry\"][\"coordinates\"][::-1] for out in output]\n",
    "\n",
    "for idx, coord in enumerate(coords):\n",
    "    folium.CircleMarker(\n",
    "        location=coord,\n",
    "        radius=1,\n",
    "        color='black',\n",
    "        fill=True,\n",
    "        fill_color='black',\n",
    "        popup=f\"Point {idx}\"\n",
    "    ).add_to(map)\n",
    "\n",
    "map"
   ]
  },
  {
   "cell_type": "code",
   "execution_count": null,
   "metadata": {},
   "outputs": [],
   "source": [
    "# Only keep coords inside bbox\n",
    "def inside_bbox(coordinate: list, bbox: list):\n",
    "    return bbox[0] <= coordinate[0] <= bbox[1] and bbox[2] <= coordinate[1] <= bbox[3]\n",
    "\n",
    "len_old = len(coords)\n",
    "coords = [coord for coord in coords if inside_bbox(coord, [xmin, xmax, ymin, ymax])]\n",
    "print(f\"{len_old} -> {len(coords)}\")"
   ]
  },
  {
   "cell_type": "code",
   "execution_count": null,
   "metadata": {},
   "outputs": [],
   "source": [
    "for idx, coord in enumerate(coords):\n",
    "    folium.CircleMarker(\n",
    "        location=coord,\n",
    "        radius=1,\n",
    "        color='green',\n",
    "        fill=True,\n",
    "        fill_color='green',\n",
    "        popup=f\"Point {idx}\"\n",
    "    ).add_to(map)\n",
    "\n",
    "map"
   ]
  },
  {
   "cell_type": "markdown",
   "metadata": {},
   "source": [
    "# Download images from bbox"
   ]
  },
  {
   "cell_type": "code",
   "execution_count": null,
   "metadata": {},
   "outputs": [],
   "source": [
    "def get_altitude(lat: float, lon: float):\n",
    "    url = f\"https://api.open-elevation.com/api/v1/lookup?locations={lat},{lon}\"\n",
    "    try:\n",
    "        r = requests.get(url).json()\n",
    "        return r[\"results\"][0][\"elevation\"]\n",
    "    except:\n",
    "        return -1\n",
    "\n",
    "def get_image_coordinates(id: Union[str, int], secrets: Dict[str, Any]):\n",
    "    url = f\"https://graph.mapillary.com/{id}?access_token={secrets['access_token']}\"\n",
    "    headers = {\"Authorization\": f\"OAuth {secrets['access_token']}\"}\n",
    "    response = requests.get(url, headers)\n",
    "    data = response.json()\n",
    "    return data[\"geometry\"][\"coordinates\"][::-1]\n",
    "\n",
    "def get_image_infos(id: Union[str, int], secrets: Dict[str, Any]):\n",
    "    url = f\"https://graph.mapillary.com/{id}?access_token={secrets['access_token']}\"\n",
    "    fields = \"&fields=id,captured_at,compass_angle,computed_compass_angle,sequence,geometry,computed_geometry\"\n",
    "    url += fields\n",
    "\n",
    "    headers = {\"Authorization\": f\"OAuth {secrets['access_token']}\"}\n",
    "    response = requests.get(url, headers)\n",
    "    data = response.json()\n",
    "    lat, lon = data[\"geometry\"][\"coordinates\"][::-1]\n",
    "    alt = get_altitude(lat, lon)\n",
    "    return {\n",
    "        \"id\": data[\"id\"],\n",
    "        \"captured_at\": data[\"captured_at\"],\n",
    "        \"compass_angle\": data[\"compass_angle\"],\n",
    "        \"computed_compass_angle\": data[\"computed_compass_angle\"],\n",
    "        \"sequence\": data[\"sequence\"],\n",
    "        \"coordinates\": [lat, lon, alt],\n",
    "        \"computed_coordinates\": data[\"computed_geometry\"][\"coordinates\"][::-1],\n",
    "    }\n",
    "\n",
    "def download_image(id: Union[str, int], secrets: Dict[str, Any]):\n",
    "    # get the image url\n",
    "    url = f\"https://graph.mapillary.com/{id}?fields=thumb_2048_url&access_token={secrets['access_token']}\"\n",
    "    headers = {\"Authorization\": f\"OAuth {secrets['access_token']}\"}\n",
    "    response = requests.get(url, headers)\n",
    "    data = response.json()\n",
    "\n",
    "    # download the image\n",
    "    img_url = data[\"thumb_2048_url\"]\n",
    "    response = requests.get(img_url)\n",
    "    img = Image.open(BytesIO(response.content))\n",
    "\n",
    "    return img, get_image_infos(id, secrets)\n",
    "\n",
    "def get_sequence_ids(id: str, secrets: Dict[str, Any]):\n",
    "    url = f\"https://graph.mapillary.com/image_ids?sequence_id={id}&access_token={secrets['access_token']}\"\n",
    "\n",
    "    headers = {\"Authorization\": f\"OAuth {secrets['access_token']}\"}\n",
    "    response = requests.get(url, headers)\n",
    "    data = response.json()\n",
    "    return [x[\"id\"] for x in data[\"data\"]]"
   ]
  },
  {
   "cell_type": "code",
   "execution_count": null,
   "metadata": {},
   "outputs": [],
   "source": [
    "out_dir = Path(\"/Users/alexanderveicht/Desktop/out\")\n",
    "\n",
    "folder = out_dir / scene\n",
    "\n",
    "if not folder.exists():\n",
    "    folder.mkdir()"
   ]
  },
  {
   "cell_type": "code",
   "execution_count": null,
   "metadata": {},
   "outputs": [],
   "source": [
    "bbox_images = [out for out in output if inside_bbox(out[\"geometry\"][\"coordinates\"][::-1], [xmin, xmax, ymin, ymax])]\n",
    "\n",
    "ids = [out[\"properties\"][\"id\"] for out in bbox_images]\n",
    "\n",
    "infos = {}\n",
    "for id in tqdm(ids, total=len(ids), desc=\"Downloading images\"):\n",
    "    img, info = download_image(id, secrets)\n",
    "    img_fn = folder / f\"{id}.jpg\"\n",
    "    img.save(img_fn)\n",
    "    infos[id] = info\n",
    "\n",
    "with open(folder / \"infos.json\", \"w\") as f:\n",
    "    json.dump(infos, f)"
   ]
  },
  {
   "cell_type": "markdown",
   "metadata": {},
   "source": [
    "# Create locations.txt"
   ]
  },
  {
   "cell_type": "code",
   "execution_count": null,
   "metadata": {},
   "outputs": [],
   "source": [
    "with open(folder / \"infos.json\", \"r\") as f:\n",
    "    infos = json.load(f)"
   ]
  },
  {
   "cell_type": "code",
   "execution_count": null,
   "metadata": {},
   "outputs": [],
   "source": [
    "locs = []\n",
    "locs_comp = []\n",
    "\n",
    "for id, info in infos.items():\n",
    "    long, lat, alt = info[\"coordinates\"]\n",
    "    line = f\"{id}.jpg {long} {lat} {alt}\\n\"\n",
    "    locs.append(line)\n",
    "    long, lat = info[\"computed_coordinates\"]\n",
    "    line = f\"{id}.jpg {long} {lat} {alt}\\n\"\n",
    "    locs_comp.append(line)\n",
    "\n",
    "with open(folder / \"locs.txt\", \"w\") as f:\n",
    "    f.writelines(locs)\n",
    "\n",
    "with open(folder / \"locs_comp.txt\", \"w\") as f:\n",
    "    f.writelines(locs_comp)"
   ]
  },
  {
   "cell_type": "markdown",
   "metadata": {},
   "source": [
    "# Get closest sequence to center"
   ]
  },
  {
   "cell_type": "code",
   "execution_count": null,
   "metadata": {},
   "outputs": [],
   "source": [
    "# dists = [dist(center, coords[i]) for i in range(len(coords))]\n",
    "# closest_to_center = np.argmin(dists)\n",
    "# closest_to_center_distance = dists[closest_to_center]\n",
    "\n",
    "\n",
    "# print(f\"Closest to center: {closest_to_center} ({coords[closest_to_center]} <-> {center})))\")\n",
    "# print(f\"Distance: {closest_to_center_distance}\")\n",
    "\n",
    "# seq_id = output[idx][\"properties\"][\"sequence_id\"]\n",
    "# print(f\"Sequence ID: {seq_id}\")"
   ]
  },
  {
   "cell_type": "markdown",
   "metadata": {},
   "source": [
    "# Get Sequence from Mapillary"
   ]
  },
  {
   "cell_type": "code",
   "execution_count": null,
   "metadata": {},
   "outputs": [],
   "source": [
    "# out_dir = Path(\"/Users/alexanderveicht/Desktop/out\")\n",
    "\n",
    "# seq_id = \"75v6cy432dhdi8c7luvdic\"\n",
    "\n",
    "# seq_folder = out_dir / seq_id\n",
    "\n",
    "# if not seq_folder.exists():\n",
    "#     seq_folder.mkdir()"
   ]
  },
  {
   "cell_type": "code",
   "execution_count": null,
   "metadata": {},
   "outputs": [],
   "source": [
    "# infos = {}\n",
    "\n",
    "# seq_img_ids = get_sequence_ids(seq_id, secrets)\n",
    "# for idx, img_id in tqdm(enumerate(seq_img_ids), total = len(seq_img_ids)):\n",
    "#     fname = f\"{seq_id}_{idx:04d}.jpg\"\n",
    "#     # img, info = download_image(img_id, secrets)\n",
    "#     info = get_image_infos(img_id, secrets)\n",
    "#     # img.save(seq_folder / fname)\n",
    "#     infos[fname] = info\n",
    "\n",
    "# # save infos\n",
    "# with open(seq_folder / \"info.json\", \"w\") as f:\n",
    "#     json.dump(infos, f)"
   ]
  },
  {
   "cell_type": "markdown",
   "metadata": {},
   "source": [
    "# Plot on Map"
   ]
  },
  {
   "cell_type": "code",
   "execution_count": null,
   "metadata": {},
   "outputs": [],
   "source": [
    "import pyproj\n",
    "\n",
    "def gps_to_ecef_pyproj(coords):\n",
    "    transformer = pyproj.Transformer.from_crs(\n",
    "        {\"proj\":'latlong', \"ellps\":'WGS84', \"datum\":'WGS84'},\n",
    "        {\"proj\":'geocent', \"ellps\":'WGS84', \"datum\":'WGS84'},\n",
    "    )\n",
    "    x, y, z = transformer.transform(coords[0], coords[1], coords[2], radians=False)\n",
    "\n",
    "    return x, y, z\n",
    "\n",
    "def ecef_to_lla(coord):\n",
    "    transformer = pyproj.Transformer.from_crs(\n",
    "        {\"proj\":'geocent', \"ellps\":'WGS84', \"datum\":'WGS84'},\n",
    "        {\"proj\":'latlong', \"ellps\":'WGS84', \"datum\":'WGS84'},\n",
    "    )\n",
    "    lon, lat, alt = transformer.transform(coord[0], coord[1], coord[2], radians=False)\n",
    "    return lon, lat, alt\n",
    "\n",
    "# plot location on map\n",
    "def plot_map(poses: list, points: list, color='red'):\n",
    "    map = folium.Map(location=poses[0], zoom_start=30)\n",
    "    \n",
    "    for coord in poses:\n",
    "        folium.CircleMarker(coord, radius=1, color=color).add_to(map)\n",
    "\n",
    "    for coord in points:\n",
    "        folium.CircleMarker(coord, radius=0.1, color='blue').add_to(map)\n",
    "\n",
    "\n",
    "    return map"
   ]
  },
  {
   "cell_type": "code",
   "execution_count": null,
   "metadata": {},
   "outputs": [],
   "source": [
    "import pycolmap\n",
    "import numpy as np\n",
    "\n",
    "from tqdm import tqdm\n",
    "\n",
    "from hloc.visualization import plot_images\n",
    "from hloc.utils.io import read_image\n",
    "\n",
    "from megadepth.utils.projections import backward_project\n",
    "\n",
    "geo_model = pycolmap.Reconstruction(\"../../data/test-mapillary/sparse/geo-model\")\n",
    "\n",
    "p3d = geo_model.points3D\n",
    "p3d = [p3d[p].xyz for p in p3d if p3d[p].track.length() > 20]\n",
    "idx = np.random.choice(len(p3d), 5000)\n",
    "p3d = [p3d[i] for i in idx]\n",
    "p3d = [ecef_to_lla(p)[:2][::-1] for p in tqdm(p3d)]"
   ]
  },
  {
   "cell_type": "code",
   "execution_count": null,
   "metadata": {},
   "outputs": [],
   "source": [
    "with open(\"../../data/test-mapillary/coords-comp.txt\", \"r\") as f:\n",
    "    lines = f.read().split(\"\\n\")\n",
    "\n",
    "lines = [c.split(\" \") for c in lines[:-1]]\n",
    "lines = [[str(c[0]), float(c[1]), float(c[2])] for c in lines]\n",
    "\n",
    "coords = {c[0]: {\"gt\": [c[1], c[2]]} for c in lines}"
   ]
  },
  {
   "cell_type": "code",
   "execution_count": null,
   "metadata": {},
   "outputs": [],
   "source": [
    "images = geo_model.images\n",
    "cameras = geo_model.cameras\n",
    "\n",
    "poses = {}\n",
    "for i, k1 in enumerate(images.keys()):\n",
    "    image_1 = images[k1]\n",
    "    camera_1 = cameras[image_1.camera_id]\n",
    "    poses[image_1.name] = backward_project(\n",
    "        points_2d=np.array([[0, 0]]),\n",
    "        image=image_1,\n",
    "        camera=camera_1,\n",
    "        depth=0,\n",
    "    )\n",
    "\n",
    "for k in coords.keys():\n",
    "    if k in poses.keys():\n",
    "        coords[k][\"pose\"] = ecef_to_lla(poses[k][0])[:2][::-1]"
   ]
  },
  {
   "cell_type": "code",
   "execution_count": null,
   "metadata": {},
   "outputs": [],
   "source": [
    "gt_poses = [p[\"gt\"] for p in coords.values() if \"pose\" in p.keys()]\n",
    "poses = [p[\"pose\"] for p in coords.values() if \"pose\" in p.keys()]\n",
    "gt_poses = np.array(gt_poses)\n",
    "poses = np.array(poses)"
   ]
  },
  {
   "cell_type": "code",
   "execution_count": null,
   "metadata": {},
   "outputs": [],
   "source": [
    "N = 5\n",
    "\n",
    "img_fn = [f\"../../data/test-mapillary/images/{fname}\" for fname in coords.keys()][:N]\n",
    "\n",
    "plot_images([read_image(fn) for fn in img_fn])"
   ]
  },
  {
   "cell_type": "code",
   "execution_count": null,
   "metadata": {},
   "outputs": [],
   "source": [
    "map = folium.Map(location=gt_poses[0], zoom_start=15)\n",
    "\n",
    "for i, pose in enumerate(gt_poses):\n",
    "    folium.Circle(pose, popup=f'GT Pose {i}', color=\"black\", radius=1).add_to(map)\n",
    "\n",
    "for i, pose in enumerate(poses):\n",
    "    folium.Circle(pose, popup=f'Pose {i}', color=\"red\", radius=1).add_to(map)\n",
    "\n",
    "for i in range(len(poses)):\n",
    "    folium.PolyLine([poses[i], gt_poses[i]], color=\"green\", weight=2.5, opacity=1).add_to(map)\n",
    "\n",
    "for coord in p3d:\n",
    "    folium.CircleMarker(coord, radius=0.1, color='blue').add_to(map)\n",
    "\n",
    "map"
   ]
  },
  {
   "cell_type": "code",
   "execution_count": null,
   "metadata": {},
   "outputs": [],
   "source": []
  }
 ],
 "metadata": {
  "kernelspec": {
   "display_name": "megadepth",
   "language": "python",
   "name": "python3"
  },
  "language_info": {
   "codemirror_mode": {
    "name": "ipython",
    "version": 3
   },
   "file_extension": ".py",
   "mimetype": "text/x-python",
   "name": "python",
   "nbconvert_exporter": "python",
   "pygments_lexer": "ipython3",
   "version": "3.9.16"
  }
 },
 "nbformat": 4,
 "nbformat_minor": 2
}
