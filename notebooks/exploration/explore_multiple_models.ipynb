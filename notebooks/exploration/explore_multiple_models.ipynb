{
 "cells": [
  {
   "cell_type": "code",
   "execution_count": null,
   "metadata": {},
   "outputs": [],
   "source": [
    "import sys\n",
    "\n",
    "sys.path.append(\"..\")\n",
    "\n",
    "import os\n",
    "from pathlib import Path\n",
    "\n",
    "import pycolmap\n",
    "import numpy as np\n",
    "\n",
    "import matplotlib.pyplot as plt\n",
    "\n",
    "from hloc.utils.io import read_image\n",
    "from hloc.visualization import plot_images\n",
    "\n",
    "from megadepth.utils.projections import get_camera_poses\n",
    "from megadepth.visualization.view_projections import create_view_projection_figure, pca"
   ]
  },
  {
   "cell_type": "code",
   "execution_count": null,
   "metadata": {},
   "outputs": [],
   "source": [
    "base_dir = Path(\"/Volumes/Extreme_SSD/MegaDepth/scenes\")\n",
    "\n",
    "scene = \"0015\"\n",
    "\n",
    "scene_dir = base_dir / scene\n",
    "image_dir = scene_dir / \"images\"\n",
    "sparse_dir = scene_dir / \"sparse\"\n",
    "dense_dir = scene_dir / \"dense\"\n",
    "\n",
    "for idx, name in enumerate(os.listdir(sparse_dir)):\n",
    "    print(f\"{idx}: {name}\")"
   ]
  },
  {
   "cell_type": "code",
   "execution_count": null,
   "metadata": {},
   "outputs": [],
   "source": [
    "# get number of models\n",
    "model_name = os.listdir(sparse_dir)[1]\n",
    "\n",
    "model_dir = sparse_dir / model_name / \"hloc\" / \"models\"\n",
    "\n",
    "n_images = {}\n",
    "for model_id in os.listdir(model_dir):\n",
    "    if model_id.startswith(\".\"):\n",
    "        continue\n",
    "\n",
    "    if model_id == \"0\":\n",
    "        reconstruction = pycolmap.Reconstruction(str(model_dir.parent))\n",
    "    else:\n",
    "        reconstruction = pycolmap.Reconstruction(str(model_dir / model_id))\n",
    "    n_images[model_id] = len(reconstruction.images)\n",
    "\n",
    "\n",
    "fig, ax = plt.subplots()\n",
    "\n",
    "ids = sorted(n_images.keys())\n",
    "values = [n_images[id] for id in ids]\n",
    "\n",
    "ax.bar(ids, values)\n",
    "ax.set_xlabel(\"Model ID\")\n",
    "ax.set_ylabel(\"Number of images\")\n",
    "ax.set_title(f\"Scene {scene} has {len(ids)} models\")\n",
    "plt.show()"
   ]
  },
  {
   "cell_type": "code",
   "execution_count": null,
   "metadata": {},
   "outputs": [],
   "source": [
    "base_model = pycolmap.Reconstruction(str(model_dir.parent))\n",
    "\n",
    "for model_id in sorted(n_images.keys()):\n",
    "    if model_id.startswith(\".\"):\n",
    "        continue\n",
    "\n",
    "    if model_id == \"0\":\n",
    "        reconstruction = pycolmap.Reconstruction(str(model_dir.parent))\n",
    "    else:\n",
    "        reconstruction = pycolmap.Reconstruction(str(model_dir / model_id))\n",
    "\n",
    "    # get camera poses and points\n",
    "    camera_poses = get_camera_poses(reconstruction)\n",
    "    points = np.array([p.xyz for p in reconstruction.points3D.values() if p.track.length() > 6])\n",
    "    align = pca(camera_poses)\n",
    "\n",
    "    # print summary\n",
    "    print(f\"{model_id} {reconstruction.summary()}\")\n",
    "\n",
    "    # plot camera poses and points\n",
    "    create_view_projection_figure([align(points)], limit=3, s=0.1, alpha=.6)\n",
    "\n",
    "    # plot sample images\n",
    "    sample_images = np.random.choice([im.name for im in reconstruction.images.values()], 5)\n",
    "    plot_images(\n",
    "        [read_image(image_dir / fname) for fname in sample_images],\n",
    "    )\n",
    "    plt.show()"
   ]
  }
 ],
 "metadata": {
  "kernelspec": {
   "display_name": "megadepth",
   "language": "python",
   "name": "python3"
  },
  "language_info": {
   "codemirror_mode": {
    "name": "ipython",
    "version": 3
   },
   "file_extension": ".py",
   "mimetype": "text/x-python",
   "name": "python",
   "nbconvert_exporter": "python",
   "pygments_lexer": "ipython3",
   "version": "3.9.16"
  }
 },
 "nbformat": 4,
 "nbformat_minor": 2
}
