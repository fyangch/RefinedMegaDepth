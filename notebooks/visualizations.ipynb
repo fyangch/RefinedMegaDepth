{
 "cells": [
  {
   "cell_type": "code",
   "execution_count": null,
   "id": "6b233f01",
   "metadata": {},
   "outputs": [],
   "source": [
    "%load_ext autoreload\n",
    "%autoreload 2"
   ]
  },
  {
   "cell_type": "code",
   "execution_count": null,
   "id": "1331de43",
   "metadata": {},
   "outputs": [],
   "source": [
    "import os\n",
    "import numpy as np\n",
    "import pycolmap\n",
    "import matplotlib.pyplot as plt\n",
    "from matplotlib.image import imread\n",
    "\n",
    "from megadepth.utils.projections import backward_project, forward_project, get_camera_poses\n",
    "from megadepth.utils.utils import camera_pixel_grid\n",
    "from megadepth.utils.io import load_depth_map\n",
    "from megadepth.visualization.view_projections import create_view_projection_figure,pca\n",
    "from megadepth.visualization import create_all_figures"
   ]
  },
  {
   "cell_type": "code",
   "execution_count": null,
   "id": "e0b19921",
   "metadata": {},
   "outputs": [],
   "source": [
    "data_path = r\"../data\"\n",
    "scenes = [os.path.join(data_path, f, \"sparse\") for f in os.listdir(data_path)]\n",
    "scenes = [f for f in scenes if os.path.isdir(f)]\n",
    "\n",
    "for scene in scenes:\n",
    "    models = os.listdir(scene)\n",
    "    models = [f for f in models if not f.startswith(\".\")]\n",
    "    for model in models[:1]:\n",
    "\n",
    "        sparse_model_path = os.path.join(scene, model)\n",
    "        output_path = os.path.join(\n",
    "            scene,\n",
    "            \"..\",\n",
    "            \"visualizations\",\n",
    "            model,\n",
    "        )\n",
    "        # os.makedirs(output_path, exist_ok=True)\n",
    "        # create_all_figures(file_path, output_path)\n",
    "        reconstruction = pycolmap.Reconstruction(sparse_model_path)\n",
    "        camera_poses = get_camera_poses(reconstruction)\n",
    "        points = np.array([p.xyz for p in reconstruction.points3D.values()])\n",
    "        align = pca(camera_poses)\n",
    "        # alternative to pca\n",
    "        # print(out_file)\n",
    "        out_file = f\"all_views_{model}.jpg\"\n",
    "        create_view_projection_figure(\n",
    "            [align(points), align(camera_poses)], limit=3,s=3\n",
    "        )\n"
   ]
  },
  {
   "cell_type": "code",
   "execution_count": null,
   "id": "b845c797",
   "metadata": {},
   "outputs": [],
   "source": [
    "# load images, cameras and depth maps\n",
    "dense_model_dir = os.path.join(\"..\", \"data\", \"0058\")\n",
    "image_dir = os.path.join(dense_model_dir, \"images\")\n",
    "reconstruction = pycolmap.Reconstruction(os.path.join(dense_model_dir, \"sparse\",\"sift-NN-ratio-netvlad-50\"))"
   ]
  },
  {
   "cell_type": "code",
   "execution_count": null,
   "id": "4b2c76af",
   "metadata": {},
   "outputs": [],
   "source": [
    "camera_poses = get_camera_poses(reconstruction)"
   ]
  },
  {
   "cell_type": "code",
   "execution_count": null,
   "id": "22d78993",
   "metadata": {},
   "outputs": [],
   "source": [
    "points = np.array([p.xyz for p in reconstruction.points3D.values()])\n",
    "align = pca(camera_poses)"
   ]
  },
  {
   "attachments": {},
   "cell_type": "markdown",
   "id": "1385ec1b",
   "metadata": {},
   "source": [
    "### Sparse Reconstruction"
   ]
  },
  {
   "cell_type": "code",
   "execution_count": null,
   "id": "245c5ff4",
   "metadata": {},
   "outputs": [],
   "source": [
    "create_view_projection_figure([align(points)], limit=3)"
   ]
  },
  {
   "attachments": {},
   "cell_type": "markdown",
   "id": "4ec326e1",
   "metadata": {},
   "source": [
    "### Camera Poses"
   ]
  },
  {
   "cell_type": "code",
   "execution_count": null,
   "id": "7d3f997c",
   "metadata": {},
   "outputs": [],
   "source": [
    "create_view_projection_figure(\n",
    "    [np.zeros((0,3)), align(camera_poses)], limit=3)"
   ]
  },
  {
   "attachments": {},
   "cell_type": "markdown",
   "id": "5dffb2dc",
   "metadata": {},
   "source": [
    "### Camaras and Reconstruction"
   ]
  },
  {
   "cell_type": "code",
   "execution_count": null,
   "id": "d0d9c2be",
   "metadata": {},
   "outputs": [],
   "source": [
    "create_view_projection_figure(\n",
    "    [align(points),align(camera_poses)], limit=3)"
   ]
  },
  {
   "cell_type": "code",
   "execution_count": null,
   "id": "81be591c",
   "metadata": {
    "scrolled": true
   },
   "outputs": [],
   "source": [
    "# saving plots\n",
    "create_view_projection_figure(\n",
    "    [align(points),align(camera_poses)],\n",
    "    view=0,limit=3,alpha=0.2,path=r\"fig.jpg\")\n"
   ]
  },
  {
   "cell_type": "code",
   "execution_count": null,
   "id": "8bf209cd",
   "metadata": {},
   "outputs": [],
   "source": []
  }
 ],
 "metadata": {
  "kernelspec": {
   "display_name": "Python 3 (ipykernel)",
   "language": "python",
   "name": "python3"
  },
  "language_info": {
   "codemirror_mode": {
    "name": "ipython",
    "version": 3
   },
   "file_extension": ".py",
   "mimetype": "text/x-python",
   "name": "python",
   "nbconvert_exporter": "python",
   "pygments_lexer": "ipython3",
   "version": "3.9.16"
  }
 },
 "nbformat": 4,
 "nbformat_minor": 5
}
