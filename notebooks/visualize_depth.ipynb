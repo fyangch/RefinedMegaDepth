{
 "cells": [
  {
   "cell_type": "code",
   "execution_count": null,
   "metadata": {},
   "outputs": [],
   "source": [
    "import os\n",
    "\n",
    "import numpy as np\n",
    "import pycolmap\n",
    "import matplotlib.pyplot as plt\n",
    "\n",
    "from megadepth.utils.io import load_depth_map, load_image"
   ]
  },
  {
   "cell_type": "code",
   "execution_count": null,
   "metadata": {},
   "outputs": [],
   "source": [
    "base_dir = os.path.join(\"..\", \"data\", \"scenes\")\n",
    "scene = \"0229\"\n",
    "model_name = \"superpoint_max-superglue-netvlad-50-KA+BA\"\n",
    "\n",
    "model = pycolmap.Reconstruction(os.path.join(base_dir, scene, \"sparse\", model_name, \"refined\"))\n",
    "print(model.summary())"
   ]
  },
  {
   "cell_type": "code",
   "execution_count": null,
   "metadata": {},
   "outputs": [],
   "source": [
    "def plot_depth(img_id):\n",
    "    img_name = model.images[img_id].name\n",
    "\n",
    "    img = load_image(os.path.join(base_dir, scene, \"images\", img_name))\n",
    "\n",
    "    depth = load_depth_map(\n",
    "        os.path.join(\n",
    "            base_dir,\n",
    "            scene,\n",
    "            \"dense\",\n",
    "            model_name,\n",
    "            \"stereo\",\n",
    "            \"depth_maps\",\n",
    "            f\"{img_name}.geometric.bin\",\n",
    "        )\n",
    "    )\n",
    "\n",
    "    depth = np.where(depth > 0, depth, np.nan)\n",
    "\n",
    "    d_min = np.nanmin(depth)\n",
    "    d_max = np.nanmax(depth)\n",
    "\n",
    "    # normalize depth\n",
    "    depth = (depth - d_min) / (d_max - d_min)\n",
    "\n",
    "    fig, ax = plt.subplots(1, 3, figsize=(20, 10))\n",
    "\n",
    "    ax[0].imshow(img)\n",
    "    ax[0].set_title(\"Image\")\n",
    "\n",
    "    ax[1].imshow(depth)\n",
    "    ax[1].set_title(\"Depth\")\n",
    "\n",
    "    ax[2].imshow(img)\n",
    "    ax[2].imshow(depth, alpha=0.5)\n",
    "    ax[2].set_title(\"Image + Depth\")\n",
    "\n",
    "    plt.show()"
   ]
  },
  {
   "cell_type": "code",
   "execution_count": null,
   "metadata": {},
   "outputs": [],
   "source": [
    "rand_img_ids = np.random.choice(list(model.images.keys()), 5)\n",
    "\n",
    "for img_id in rand_img_ids:\n",
    "    plot_depth(img_id)"
   ]
  },
  {
   "cell_type": "code",
   "execution_count": null,
   "metadata": {},
   "outputs": [],
   "source": [
    "completeness = []\n",
    "\n",
    "for img_id in model.images.keys():\n",
    "    img_name = model.images[img_id].name\n",
    "\n",
    "    depth = load_depth_map(\n",
    "        os.path.join(\n",
    "            base_dir,\n",
    "            scene,\n",
    "            \"dense\",\n",
    "            model_name,\n",
    "            \"stereo\",\n",
    "            \"depth_maps\",\n",
    "            f\"{img_name}.geometric.bin\",\n",
    "        )\n",
    "    )\n",
    "\n",
    "    depth = np.where(depth > 0, depth, np.nan)\n",
    "\n",
    "    score = np.count_nonzero(~np.isnan(depth)) / depth.size\n",
    "\n",
    "    assert type(score) == float\n",
    "    completeness.append((img_id, score))\n",
    "    \n",
    "\n",
    "print(f\"Mean Completness: {np.mean([c[1] for c in completeness])}\")"
   ]
  },
  {
   "cell_type": "code",
   "execution_count": null,
   "metadata": {},
   "outputs": [],
   "source": [
    "plt.hist([c[1] for c in completeness], bins=20)\n",
    "plt.title(\"Completness\")\n",
    "\n",
    "plt.show()"
   ]
  },
  {
   "cell_type": "code",
   "execution_count": null,
   "metadata": {},
   "outputs": [],
   "source": [
    "# number will be even bigger as we should discard the sky from the calculation\n",
    "n_valid = np.sum([c[1] > 0.3 for c in completeness]) \n",
    "print(f\"Number of images with completeness > 0.3: {n_valid}\")"
   ]
  },
  {
   "cell_type": "code",
   "execution_count": null,
   "metadata": {},
   "outputs": [],
   "source": [
    "# plot 5 image with lowest completeness\n",
    "for img_id, _ in sorted(completeness, key=lambda x: x[1])[:5]:\n",
    "    plot_depth(img_id)"
   ]
  },
  {
   "cell_type": "code",
   "execution_count": null,
   "metadata": {},
   "outputs": [],
   "source": [
    "# plot 5 image with highest completeness\n",
    "for img_id, _ in sorted(completeness, key=lambda x: x[1], reverse=True)[:5]:\n",
    "    plot_depth(img_id)"
   ]
  },
  {
   "cell_type": "code",
   "execution_count": null,
   "metadata": {},
   "outputs": [],
   "source": [
    "def plot_normal(img_id):\n",
    "    img_name = model.images[img_id].name\n",
    "\n",
    "    img = load_image(os.path.join(base_dir, scene, \"images\", img_name))\n",
    "\n",
    "    normal = load_depth_map(\n",
    "        os.path.join(\n",
    "            base_dir,\n",
    "            scene,\n",
    "            \"dense\",\n",
    "            model_name,\n",
    "            \"stereo\",\n",
    "            \"normal_maps\",\n",
    "            f\"{img_name}.geometric.bin\",\n",
    "        )\n",
    "    )\n",
    "\n",
    "    # normalize to 0-1\n",
    "    normal = (normal - normal.min()) / (normal.max() - normal.min())\n",
    "\n",
    "    fig, ax = plt.subplots(1, 3, figsize=(20, 10))\n",
    "\n",
    "    ax[0].imshow(img)\n",
    "    ax[0].set_title(\"Image\")\n",
    "\n",
    "    ax[1].imshow(normal)\n",
    "    ax[1].set_title(\"Normal\")\n",
    "\n",
    "    ax[2].imshow(img)\n",
    "    ax[2].imshow(normal, alpha=0.5)\n",
    "    ax[2].set_title(\"Image + Normal\")\n",
    "\n",
    "    plt.show()"
   ]
  },
  {
   "cell_type": "code",
   "execution_count": null,
   "metadata": {},
   "outputs": [],
   "source": [
    "# plot 5 image with highest completeness\n",
    "for img_id, _ in sorted(completeness, key=lambda x: x[1], reverse=True)[:5]:\n",
    "    plot_normal(img_id)"
   ]
  },
  {
   "cell_type": "code",
   "execution_count": null,
   "metadata": {},
   "outputs": [],
   "source": []
  }
 ],
 "metadata": {
  "kernelspec": {
   "display_name": "megadepth",
   "language": "python",
   "name": "python3"
  },
  "language_info": {
   "codemirror_mode": {
    "name": "ipython",
    "version": 3
   },
   "file_extension": ".py",
   "mimetype": "text/x-python",
   "name": "python",
   "nbconvert_exporter": "python",
   "pygments_lexer": "ipython3",
   "version": "3.9.16"
  },
  "orig_nbformat": 4
 },
 "nbformat": 4,
 "nbformat_minor": 2
}
