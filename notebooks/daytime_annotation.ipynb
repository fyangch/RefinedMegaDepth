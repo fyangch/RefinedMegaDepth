{
 "cells": [
  {
   "cell_type": "code",
   "execution_count": null,
   "metadata": {},
   "outputs": [],
   "source": [
    "%pip install pigeon-jupyter"
   ]
  },
  {
   "cell_type": "code",
   "execution_count": null,
   "metadata": {},
   "outputs": [],
   "source": [
    "import os\n",
    "import pandas as pd\n",
    "from pigeon import annotate\n",
    "from IPython.display import display, Image"
   ]
  },
  {
   "attachments": {},
   "cell_type": "markdown",
   "metadata": {},
   "source": [
    "Change the string in the following cell to annotate the images of another scene:"
   ]
  },
  {
   "cell_type": "code",
   "execution_count": null,
   "metadata": {},
   "outputs": [],
   "source": [
    "scene = \"0229\""
   ]
  },
  {
   "attachments": {},
   "cell_type": "markdown",
   "metadata": {},
   "source": [
    "Annotate all images of the scene"
   ]
  },
  {
   "cell_type": "code",
   "execution_count": null,
   "metadata": {},
   "outputs": [],
   "source": [
    "scene_dir = os.path.join(\"..\", \"data\", scene)\n",
    "image_dir = os.path.join(scene_dir, \"images\")\n",
    "image_fns = [\n",
    "    fn for fn in os.listdir(image_dir)\n",
    "    if fn.endswith(\".jpg\") or fn.endswith(\".JPG\") or fn.endswith(\".png\")\n",
    "]\n",
    "\n",
    "annotations = annotate(\n",
    "  image_fns,\n",
    "  options=[\"day\", \"night\"],\n",
    "  include_skip=False,\n",
    "  display_fn=lambda fn: display(Image(os.path.join(image_dir, fn))),\n",
    ")"
   ]
  },
  {
   "attachments": {},
   "cell_type": "markdown",
   "metadata": {},
   "source": [
    "Save annotations as a csv file in the metrics directory of the scene."
   ]
  },
  {
   "cell_type": "code",
   "execution_count": null,
   "metadata": {},
   "outputs": [],
   "source": [
    "df = pd.DataFrame(index=image_fns)\n",
    "df[\"is_night\"] = False\n",
    "\n",
    "for fn, daytime in annotations:\n",
    "    if daytime == \"night\":\n",
    "        df.loc[fn, \"is_night\"] = True\n",
    "\n",
    "metrics_dir = os.path.join(scene_dir, \"metrics\")\n",
    "os.makedirs(metrics_dir, exist_ok=True)\n",
    "\n",
    "df.to_csv(os.path.join(metrics_dir, \"night_images.csv\"))"
   ]
  }
 ],
 "metadata": {
  "kernelspec": {
   "display_name": "base",
   "language": "python",
   "name": "python3"
  },
  "language_info": {
   "codemirror_mode": {
    "name": "ipython",
    "version": 3
   },
   "file_extension": ".py",
   "mimetype": "text/x-python",
   "name": "python",
   "nbconvert_exporter": "python",
   "pygments_lexer": "ipython3",
   "version": "3.9.16"
  },
  "orig_nbformat": 4,
  "vscode": {
   "interpreter": {
    "hash": "8d5e711c988a7af6e5749cad669bfcd9e4f769c6de02814d8232ddb3f9adfe9e"
   }
  }
 },
 "nbformat": 4,
 "nbformat_minor": 2
}
